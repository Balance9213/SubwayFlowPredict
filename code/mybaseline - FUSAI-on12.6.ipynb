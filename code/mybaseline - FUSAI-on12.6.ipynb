{
 "cells": [
  {
   "cell_type": "code",
   "execution_count": 1,
   "metadata": {},
   "outputs": [],
   "source": [
    "import pandas as pd\n",
    "import lightgbm as lgb\n",
    "import os\n",
    "import numpy as np\n",
    "import matplotlib.pyplot as plt\n",
    "import seaborn as sns"
   ]
  },
  {
   "cell_type": "code",
   "execution_count": 23,
   "metadata": {},
   "outputs": [],
   "source": [
    "path='./data'\n",
    "test = pd.read_csv(path + '/Metro_testB/testB_submit_2019-01-27.csv')\n",
    "test_26 = pd.read_csv(path + '/Metro_testB/testB_record_2019-01-26.csv')"
   ]
  },
  {
   "cell_type": "code",
   "execution_count": 8,
   "metadata": {},
   "outputs": [],
   "source": [
    "# 时间处理\n",
    "def process_time(df_):\n",
    "\n",
    "    df= df_.copy()\n",
    "    # base time\n",
    "    df['day'] = df['time'].apply(lambda x: int(x[8:10]))\n",
    "    df['week'] = pd.to_datetime(df['time']).dt.dayofweek + 1\n",
    "    df['weekend'] = (pd.to_datetime(df.time).dt.weekday >= 5).astype(int)\n",
    "    df['hour'] = df['time'].apply(lambda x: int(x[11:13]))\n",
    "    df['minute'] = df['time'].apply(lambda x: int(x[14:15] + '0'))\n",
    "    del df['time']\n",
    "    return df"
   ]
  },
  {
   "cell_type": "code",
   "execution_count": 9,
   "metadata": {},
   "outputs": [],
   "source": [
    "data = process_time(test_26)"
   ]
  },
  {
   "cell_type": "code",
   "execution_count": 10,
   "metadata": {},
   "outputs": [],
   "source": [
    "# 构造基本特征\n",
    "def get_base_features(df):\n",
    "    \n",
    "    # count,sum\n",
    "    result = df.groupby(['stationID','week', 'lineID','weekend', 'day', 'hour', 'minute']).status.agg(\n",
    "        ['count', 'sum']).reset_index()\n",
    "    \n",
    "    # 各个站每10分钟一段的流量情况\n",
    "    result['inNums'] = result['sum']\n",
    "    result['outNums'] = result['count'] - result['sum']\n",
    "    del result['sum'], result['count']\n",
    "    return result"
   ]
  },
  {
   "cell_type": "code",
   "execution_count": 11,
   "metadata": {},
   "outputs": [
    {
     "data": {
      "text/html": [
       "<div>\n",
       "<style scoped>\n",
       "    .dataframe tbody tr th:only-of-type {\n",
       "        vertical-align: middle;\n",
       "    }\n",
       "\n",
       "    .dataframe tbody tr th {\n",
       "        vertical-align: top;\n",
       "    }\n",
       "\n",
       "    .dataframe thead th {\n",
       "        text-align: right;\n",
       "    }\n",
       "</style>\n",
       "<table border=\"1\" class=\"dataframe\">\n",
       "  <thead>\n",
       "    <tr style=\"text-align: right;\">\n",
       "      <th></th>\n",
       "      <th>stationID</th>\n",
       "      <th>week</th>\n",
       "      <th>lineID</th>\n",
       "      <th>weekend</th>\n",
       "      <th>day</th>\n",
       "      <th>hour</th>\n",
       "      <th>minute</th>\n",
       "      <th>inNums</th>\n",
       "      <th>outNums</th>\n",
       "    </tr>\n",
       "  </thead>\n",
       "  <tbody>\n",
       "    <tr>\n",
       "      <th>0</th>\n",
       "      <td>0</td>\n",
       "      <td>6</td>\n",
       "      <td>B</td>\n",
       "      <td>1</td>\n",
       "      <td>26</td>\n",
       "      <td>0</td>\n",
       "      <td>0</td>\n",
       "      <td>0</td>\n",
       "      <td>1</td>\n",
       "    </tr>\n",
       "    <tr>\n",
       "      <th>1</th>\n",
       "      <td>0</td>\n",
       "      <td>6</td>\n",
       "      <td>B</td>\n",
       "      <td>1</td>\n",
       "      <td>26</td>\n",
       "      <td>0</td>\n",
       "      <td>10</td>\n",
       "      <td>0</td>\n",
       "      <td>3</td>\n",
       "    </tr>\n",
       "    <tr>\n",
       "      <th>2</th>\n",
       "      <td>0</td>\n",
       "      <td>6</td>\n",
       "      <td>B</td>\n",
       "      <td>1</td>\n",
       "      <td>26</td>\n",
       "      <td>0</td>\n",
       "      <td>20</td>\n",
       "      <td>0</td>\n",
       "      <td>2</td>\n",
       "    </tr>\n",
       "    <tr>\n",
       "      <th>3</th>\n",
       "      <td>0</td>\n",
       "      <td>6</td>\n",
       "      <td>B</td>\n",
       "      <td>1</td>\n",
       "      <td>26</td>\n",
       "      <td>5</td>\n",
       "      <td>30</td>\n",
       "      <td>13</td>\n",
       "      <td>0</td>\n",
       "    </tr>\n",
       "    <tr>\n",
       "      <th>4</th>\n",
       "      <td>0</td>\n",
       "      <td>6</td>\n",
       "      <td>B</td>\n",
       "      <td>1</td>\n",
       "      <td>26</td>\n",
       "      <td>5</td>\n",
       "      <td>40</td>\n",
       "      <td>33</td>\n",
       "      <td>0</td>\n",
       "    </tr>\n",
       "    <tr>\n",
       "      <th>5</th>\n",
       "      <td>0</td>\n",
       "      <td>6</td>\n",
       "      <td>B</td>\n",
       "      <td>1</td>\n",
       "      <td>26</td>\n",
       "      <td>5</td>\n",
       "      <td>50</td>\n",
       "      <td>31</td>\n",
       "      <td>2</td>\n",
       "    </tr>\n",
       "    <tr>\n",
       "      <th>6</th>\n",
       "      <td>0</td>\n",
       "      <td>6</td>\n",
       "      <td>B</td>\n",
       "      <td>1</td>\n",
       "      <td>26</td>\n",
       "      <td>6</td>\n",
       "      <td>0</td>\n",
       "      <td>49</td>\n",
       "      <td>1</td>\n",
       "    </tr>\n",
       "    <tr>\n",
       "      <th>7</th>\n",
       "      <td>0</td>\n",
       "      <td>6</td>\n",
       "      <td>B</td>\n",
       "      <td>1</td>\n",
       "      <td>26</td>\n",
       "      <td>6</td>\n",
       "      <td>10</td>\n",
       "      <td>53</td>\n",
       "      <td>0</td>\n",
       "    </tr>\n",
       "    <tr>\n",
       "      <th>8</th>\n",
       "      <td>0</td>\n",
       "      <td>6</td>\n",
       "      <td>B</td>\n",
       "      <td>1</td>\n",
       "      <td>26</td>\n",
       "      <td>6</td>\n",
       "      <td>20</td>\n",
       "      <td>51</td>\n",
       "      <td>1</td>\n",
       "    </tr>\n",
       "    <tr>\n",
       "      <th>9</th>\n",
       "      <td>0</td>\n",
       "      <td>6</td>\n",
       "      <td>B</td>\n",
       "      <td>1</td>\n",
       "      <td>26</td>\n",
       "      <td>6</td>\n",
       "      <td>30</td>\n",
       "      <td>88</td>\n",
       "      <td>54</td>\n",
       "    </tr>\n",
       "  </tbody>\n",
       "</table>\n",
       "</div>"
      ],
      "text/plain": [
       "   stationID  week lineID  weekend  day  hour  minute  inNums  outNums\n",
       "0          0     6      B        1   26     0       0       0        1\n",
       "1          0     6      B        1   26     0      10       0        3\n",
       "2          0     6      B        1   26     0      20       0        2\n",
       "3          0     6      B        1   26     5      30      13        0\n",
       "4          0     6      B        1   26     5      40      33        0\n",
       "5          0     6      B        1   26     5      50      31        2\n",
       "6          0     6      B        1   26     6       0      49        1\n",
       "7          0     6      B        1   26     6      10      53        0\n",
       "8          0     6      B        1   26     6      20      51        1\n",
       "9          0     6      B        1   26     6      30      88       54"
      ]
     },
     "execution_count": 11,
     "metadata": {},
     "output_type": "execute_result"
    }
   ],
   "source": [
    "data= get_base_features(data)\n",
    "data.head(10)"
   ]
  },
  {
   "cell_type": "code",
   "execution_count": 12,
   "metadata": {
    "scrolled": true
   },
   "outputs": [
    {
     "name": "stdout",
     "output_type": "stream",
     "text": [
      "已加载 record_2019-01-01.csv 0\n",
      "已加载 record_2019-01-02.csv 1\n",
      "已加载 record_2019-01-03.csv 2\n",
      "已加载 record_2019-01-04.csv 3\n",
      "已加载 record_2019-01-05.csv 4\n",
      "已加载 record_2019-01-06.csv 5\n",
      "已加载 record_2019-01-07.csv 6\n",
      "已加载 record_2019-01-08.csv 7\n",
      "已加载 record_2019-01-09.csv 8\n",
      "已加载 record_2019-01-10.csv 9\n",
      "已加载 record_2019-01-11.csv 10\n",
      "已加载 record_2019-01-12.csv 11\n",
      "已加载 record_2019-01-13.csv 12\n",
      "已加载 record_2019-01-14.csv 13\n",
      "已加载 record_2019-01-15.csv 14\n",
      "已加载 record_2019-01-16.csv 15\n",
      "已加载 record_2019-01-17.csv 16\n",
      "已加载 record_2019-01-18.csv 17\n",
      "已加载 record_2019-01-19.csv 18\n",
      "已加载 record_2019-01-20.csv 19\n",
      "已加载 record_2019-01-21.csv 20\n",
      "已加载 record_2019-01-22.csv 21\n",
      "已加载 record_2019-01-23.csv 22\n",
      "已加载 record_2019-01-24.csv 23\n",
      "已加载 record_2019-01-25.csv 24\n"
     ]
    }
   ],
   "source": [
    "#加载所有文件数据\n",
    "\n",
    "data_list = os.listdir(path+'/Metro_train/')\n",
    "for i in range(0, len(data_list)):\n",
    "    if data_list[i].split('.')[-1] == 'csv':\n",
    "        print('已加载',data_list[i], i)\n",
    "        df = pd.read_csv(path+'/Metro_train/' + data_list[i])\n",
    "        df = process_time(df)\n",
    "        df = get_base_features(df)\n",
    "        data = pd.concat([data, df], axis=0, ignore_index=True)\n",
    "    else:\n",
    "        continue"
   ]
  },
  {
   "cell_type": "code",
   "execution_count": 24,
   "metadata": {},
   "outputs": [],
   "source": [
    "# 构建测试集\n",
    "\n",
    "test['week'] = pd.to_datetime(test['startTime']).dt.dayofweek + 1\n",
    "test['weekend'] = (pd.to_datetime(test.startTime).dt.weekday >= 5).astype(int)\n",
    "test['day'] = test['startTime'].apply(lambda x: int(x[8:10]))\n",
    "test['hour'] = test['startTime'].apply(lambda x: int(x[11:13]))\n",
    "test['minute'] = test['startTime'].apply(lambda x: int(x[14:15] + '0'))\n",
    "test = test.drop(['startTime', 'endTime'], axis=1)"
   ]
  },
  {
   "cell_type": "code",
   "execution_count": 25,
   "metadata": {},
   "outputs": [],
   "source": [
    "test['lineID']=test['stationID'].map(dict(zip(test_26.stationID,test_26.lineID)))"
   ]
  },
  {
   "cell_type": "code",
   "execution_count": 36,
   "metadata": {},
   "outputs": [
    {
     "data": {
      "text/html": [
       "<div>\n",
       "<style scoped>\n",
       "    .dataframe tbody tr th:only-of-type {\n",
       "        vertical-align: middle;\n",
       "    }\n",
       "\n",
       "    .dataframe tbody tr th {\n",
       "        vertical-align: top;\n",
       "    }\n",
       "\n",
       "    .dataframe thead th {\n",
       "        text-align: right;\n",
       "    }\n",
       "</style>\n",
       "<table border=\"1\" class=\"dataframe\">\n",
       "  <thead>\n",
       "    <tr style=\"text-align: right;\">\n",
       "      <th></th>\n",
       "      <th>stationID</th>\n",
       "      <th>inNums</th>\n",
       "      <th>outNums</th>\n",
       "      <th>week</th>\n",
       "      <th>weekend</th>\n",
       "      <th>day</th>\n",
       "      <th>hour</th>\n",
       "      <th>minute</th>\n",
       "      <th>lineID</th>\n",
       "    </tr>\n",
       "  </thead>\n",
       "  <tbody>\n",
       "    <tr>\n",
       "      <th>11659</th>\n",
       "      <td>80</td>\n",
       "      <td>NaN</td>\n",
       "      <td>NaN</td>\n",
       "      <td>7</td>\n",
       "      <td>1</td>\n",
       "      <td>27</td>\n",
       "      <td>23</td>\n",
       "      <td>10</td>\n",
       "      <td>A</td>\n",
       "    </tr>\n",
       "    <tr>\n",
       "      <th>11660</th>\n",
       "      <td>80</td>\n",
       "      <td>NaN</td>\n",
       "      <td>NaN</td>\n",
       "      <td>7</td>\n",
       "      <td>1</td>\n",
       "      <td>27</td>\n",
       "      <td>23</td>\n",
       "      <td>20</td>\n",
       "      <td>A</td>\n",
       "    </tr>\n",
       "    <tr>\n",
       "      <th>11661</th>\n",
       "      <td>80</td>\n",
       "      <td>NaN</td>\n",
       "      <td>NaN</td>\n",
       "      <td>7</td>\n",
       "      <td>1</td>\n",
       "      <td>27</td>\n",
       "      <td>23</td>\n",
       "      <td>30</td>\n",
       "      <td>A</td>\n",
       "    </tr>\n",
       "    <tr>\n",
       "      <th>11662</th>\n",
       "      <td>80</td>\n",
       "      <td>NaN</td>\n",
       "      <td>NaN</td>\n",
       "      <td>7</td>\n",
       "      <td>1</td>\n",
       "      <td>27</td>\n",
       "      <td>23</td>\n",
       "      <td>40</td>\n",
       "      <td>A</td>\n",
       "    </tr>\n",
       "    <tr>\n",
       "      <th>11663</th>\n",
       "      <td>80</td>\n",
       "      <td>NaN</td>\n",
       "      <td>NaN</td>\n",
       "      <td>7</td>\n",
       "      <td>1</td>\n",
       "      <td>27</td>\n",
       "      <td>23</td>\n",
       "      <td>50</td>\n",
       "      <td>A</td>\n",
       "    </tr>\n",
       "  </tbody>\n",
       "</table>\n",
       "</div>"
      ],
      "text/plain": [
       "       stationID  inNums  outNums  week  weekend  day  hour  minute lineID\n",
       "11659         80     NaN      NaN     7        1   27    23      10      A\n",
       "11660         80     NaN      NaN     7        1   27    23      20      A\n",
       "11661         80     NaN      NaN     7        1   27    23      30      A\n",
       "11662         80     NaN      NaN     7        1   27    23      40      A\n",
       "11663         80     NaN      NaN     7        1   27    23      50      A"
      ]
     },
     "execution_count": 36,
     "metadata": {},
     "output_type": "execute_result"
    }
   ],
   "source": [
    "test.tail()"
   ]
  },
  {
   "cell_type": "code",
   "execution_count": 16,
   "metadata": {},
   "outputs": [],
   "source": [
    "data = pd.concat([data, test], axis=0, ignore_index=True)"
   ]
  },
  {
   "cell_type": "code",
   "execution_count": 35,
   "metadata": {},
   "outputs": [
    {
     "data": {
      "text/html": [
       "<div>\n",
       "<style scoped>\n",
       "    .dataframe tbody tr th:only-of-type {\n",
       "        vertical-align: middle;\n",
       "    }\n",
       "\n",
       "    .dataframe tbody tr th {\n",
       "        vertical-align: top;\n",
       "    }\n",
       "\n",
       "    .dataframe thead th {\n",
       "        text-align: right;\n",
       "    }\n",
       "</style>\n",
       "<table border=\"1\" class=\"dataframe\">\n",
       "  <thead>\n",
       "    <tr style=\"text-align: right;\">\n",
       "      <th></th>\n",
       "      <th>day</th>\n",
       "      <th>hour</th>\n",
       "      <th>inNums</th>\n",
       "      <th>lineID</th>\n",
       "      <th>minute</th>\n",
       "      <th>outNums</th>\n",
       "      <th>stationID</th>\n",
       "      <th>week</th>\n",
       "      <th>weekend</th>\n",
       "    </tr>\n",
       "  </thead>\n",
       "  <tbody>\n",
       "    <tr>\n",
       "      <th>0</th>\n",
       "      <td>26</td>\n",
       "      <td>0</td>\n",
       "      <td>0.0</td>\n",
       "      <td>B</td>\n",
       "      <td>0</td>\n",
       "      <td>1.0</td>\n",
       "      <td>0</td>\n",
       "      <td>6</td>\n",
       "      <td>1</td>\n",
       "    </tr>\n",
       "    <tr>\n",
       "      <th>1</th>\n",
       "      <td>26</td>\n",
       "      <td>0</td>\n",
       "      <td>0.0</td>\n",
       "      <td>B</td>\n",
       "      <td>10</td>\n",
       "      <td>3.0</td>\n",
       "      <td>0</td>\n",
       "      <td>6</td>\n",
       "      <td>1</td>\n",
       "    </tr>\n",
       "    <tr>\n",
       "      <th>2</th>\n",
       "      <td>26</td>\n",
       "      <td>0</td>\n",
       "      <td>0.0</td>\n",
       "      <td>B</td>\n",
       "      <td>20</td>\n",
       "      <td>2.0</td>\n",
       "      <td>0</td>\n",
       "      <td>6</td>\n",
       "      <td>1</td>\n",
       "    </tr>\n",
       "    <tr>\n",
       "      <th>3</th>\n",
       "      <td>26</td>\n",
       "      <td>5</td>\n",
       "      <td>13.0</td>\n",
       "      <td>B</td>\n",
       "      <td>30</td>\n",
       "      <td>0.0</td>\n",
       "      <td>0</td>\n",
       "      <td>6</td>\n",
       "      <td>1</td>\n",
       "    </tr>\n",
       "    <tr>\n",
       "      <th>4</th>\n",
       "      <td>26</td>\n",
       "      <td>5</td>\n",
       "      <td>33.0</td>\n",
       "      <td>B</td>\n",
       "      <td>40</td>\n",
       "      <td>0.0</td>\n",
       "      <td>0</td>\n",
       "      <td>6</td>\n",
       "      <td>1</td>\n",
       "    </tr>\n",
       "  </tbody>\n",
       "</table>\n",
       "</div>"
      ],
      "text/plain": [
       "   day  hour  inNums lineID  minute  outNums  stationID  week  weekend\n",
       "0   26     0     0.0      B       0      1.0          0     6        1\n",
       "1   26     0     0.0      B      10      3.0          0     6        1\n",
       "2   26     0     0.0      B      20      2.0          0     6        1\n",
       "3   26     5    13.0      B      30      0.0          0     6        1\n",
       "4   26     5    33.0      B      40      0.0          0     6        1"
      ]
     },
     "execution_count": 35,
     "metadata": {},
     "output_type": "execute_result"
    }
   ],
   "source": [
    "data.head()"
   ]
  },
  {
   "cell_type": "code",
   "execution_count": 205,
   "metadata": {},
   "outputs": [],
   "source": [
    "data_3=data_2.copy()"
   ]
  },
  {
   "cell_type": "code",
   "execution_count": 206,
   "metadata": {},
   "outputs": [],
   "source": [
    "data=data_3"
   ]
  },
  {
   "cell_type": "code",
   "execution_count": 207,
   "metadata": {},
   "outputs": [
    {
     "data": {
      "text/plain": [
       "array([26,  1,  2,  3,  4,  5,  6,  7,  8,  9, 10, 11, 12, 13, 14, 15, 16,\n",
       "       17, 18, 19, 20, 21, 22, 23, 24, 25, 27], dtype=int64)"
      ]
     },
     "execution_count": 207,
     "metadata": {},
     "output_type": "execute_result"
    }
   ],
   "source": [
    "data.day.unique()"
   ]
  },
  {
   "cell_type": "code",
   "execution_count": 208,
   "metadata": {},
   "outputs": [
    {
     "data": {
      "text/plain": [
       "27    11664\n",
       "23     9188\n",
       "25     9181\n",
       "26     9153\n",
       "22     9153\n",
       "24     9147\n",
       "9      9086\n",
       "17     9072\n",
       "21     9069\n",
       "5      9052\n",
       "2      9046\n",
       "10     9038\n",
       "3      9028\n",
       "15     9023\n",
       "19     9017\n",
       "11     9006\n",
       "8      8989\n",
       "20     8985\n",
       "18     8984\n",
       "16     8974\n",
       "13     8973\n",
       "12     8973\n",
       "4      8968\n",
       "7      8959\n",
       "14     8946\n",
       "1      8941\n",
       "6      8925\n",
       "Name: day, dtype: int64"
      ]
     },
     "execution_count": 208,
     "metadata": {},
     "output_type": "execute_result"
    }
   ],
   "source": [
    "data.day.value_counts()"
   ]
  },
  {
   "cell_type": "code",
   "execution_count": 209,
   "metadata": {},
   "outputs": [
    {
     "data": {
      "text/plain": [
       "day                  0\n",
       "hour                 0\n",
       "inNums           11664\n",
       "lineID             144\n",
       "minute               0\n",
       "outNums          11664\n",
       "stationID            0\n",
       "week                 0\n",
       "weekend              0\n",
       "lineID_new         144\n",
       "stationID_new        0\n",
       "dtype: int64"
      ]
     },
     "execution_count": 209,
     "metadata": {},
     "output_type": "execute_result"
    }
   ],
   "source": [
    "data.isnull().sum()"
   ]
  },
  {
   "cell_type": "code",
   "execution_count": 210,
   "metadata": {},
   "outputs": [],
   "source": [
    "# # # 构建lineID\n",
    "lineID_new=data.groupby(['lineID']).inNums.mean().sort_values().index\n",
    "data['lineID_new']=data['lineID'].map(dict(zip(lineID_new,range(3))))"
   ]
  },
  {
   "cell_type": "code",
   "execution_count": 211,
   "metadata": {},
   "outputs": [],
   "source": [
    "# data.groupby(['lineID']).inNums.mean().sort_values().index"
   ]
  },
  {
   "cell_type": "code",
   "execution_count": 212,
   "metadata": {},
   "outputs": [],
   "source": [
    "# data[data.stationID==15].head()"
   ]
  },
  {
   "cell_type": "code",
   "execution_count": 213,
   "metadata": {},
   "outputs": [],
   "source": [
    "# stationID重新编码  按平均出入次数\n",
    "def get_station_new(data):\n",
    "    stationID_new=data.groupby(['stationID']).inNums.mean().sort_values().index\n",
    "    data['stationID_new']=data['stationID'].map(dict(zip(stationID_new,range(81))))\n",
    "    return data\n",
    "\n",
    "data=get_station_new(data)"
   ]
  },
  {
   "cell_type": "code",
   "execution_count": null,
   "metadata": {},
   "outputs": [],
   "source": []
  },
  {
   "cell_type": "code",
   "execution_count": 214,
   "metadata": {},
   "outputs": [],
   "source": [
    "# 补充时段缺失值\n",
    "def get_new_data(data,test,i):\n",
    "    temp=test[['stationID','hour','minute']]\n",
    "    temp2=data[data.day==i]\n",
    "    temp=temp.merge(temp2,on=['stationID','hour','minute'],how='left')\n",
    "    temp.fillna({'day':i,'week':temp2.week.unique()[0],'inNums':0,'outNums':0,'weekend':temp2.weekend.unique()[0],'lineID':temp2.lineID.unique()[0],'stationID':temp2.stationID.unique()[0],'lineID_new':temp2.lineID_new.unique()[0],'stationID_new':temp2.stationID_new.unique()[0]},inplace=True)\n",
    "    return temp"
   ]
  },
  {
   "cell_type": "code",
   "execution_count": 215,
   "metadata": {},
   "outputs": [
    {
     "data": {
      "text/plain": [
       "array([26,  1,  2,  3,  4,  5,  6,  7,  8,  9, 10, 11, 12, 13, 14, 15, 16,\n",
       "       17, 18, 19, 20, 21, 22, 23, 24, 25, 27], dtype=int64)"
      ]
     },
     "execution_count": 215,
     "metadata": {},
     "output_type": "execute_result"
    }
   ],
   "source": [
    "data.day.unique()[:]"
   ]
  },
  {
   "cell_type": "code",
   "execution_count": 216,
   "metadata": {},
   "outputs": [],
   "source": [
    "data_new=get_new_data(data,test,26)\n",
    "for i in data.day.unique()[1:]:   \n",
    "    temp_df=get_new_data(data,test,i)\n",
    "    data_new = pd.concat([data_new, temp_df], axis=0, ignore_index=True)"
   ]
  },
  {
   "cell_type": "code",
   "execution_count": 217,
   "metadata": {},
   "outputs": [
    {
     "data": {
      "text/plain": [
       "stationID        0\n",
       "hour             0\n",
       "minute           0\n",
       "day              0\n",
       "inNums           0\n",
       "lineID           0\n",
       "outNums          0\n",
       "week             0\n",
       "weekend          0\n",
       "lineID_new       0\n",
       "stationID_new    0\n",
       "dtype: int64"
      ]
     },
     "execution_count": 217,
     "metadata": {},
     "output_type": "execute_result"
    }
   ],
   "source": [
    "data_new.isnull().sum()"
   ]
  },
  {
   "cell_type": "code",
   "execution_count": 218,
   "metadata": {},
   "outputs": [
    {
     "data": {
      "text/plain": [
       "13.0    11664\n",
       "23.0    11664\n",
       "2.0     11664\n",
       "17.0    11664\n",
       "14.0    11664\n",
       "9.0     11664\n",
       "4.0     11664\n",
       "19.0    11664\n",
       "5.0     11664\n",
       "8.0     11664\n",
       "21.0    11664\n",
       "11.0    11664\n",
       "16.0    11664\n",
       "3.0     11664\n",
       "24.0    11664\n",
       "18.0    11664\n",
       "10.0    11664\n",
       "25.0    11664\n",
       "26.0    11664\n",
       "20.0    11664\n",
       "27.0    11664\n",
       "6.0     11664\n",
       "7.0     11664\n",
       "22.0    11664\n",
       "12.0    11664\n",
       "15.0    11664\n",
       "1.0     11664\n",
       "Name: day, dtype: int64"
      ]
     },
     "execution_count": 218,
     "metadata": {},
     "output_type": "execute_result"
    }
   ],
   "source": [
    "data_new.day.value_counts()"
   ]
  },
  {
   "cell_type": "code",
   "execution_count": 219,
   "metadata": {},
   "outputs": [],
   "source": [
    "data=data_new"
   ]
  },
  {
   "cell_type": "code",
   "execution_count": 220,
   "metadata": {},
   "outputs": [
    {
     "data": {
      "text/plain": [
       "array([26.,  1.,  2.,  3.,  4.,  5.,  6.,  7.,  8.,  9., 10., 11., 12.,\n",
       "       13., 14., 15., 16., 17., 18., 19., 20., 21., 22., 23., 24., 25.,\n",
       "       27.])"
      ]
     },
     "execution_count": 220,
     "metadata": {},
     "output_type": "execute_result"
    }
   ],
   "source": [
    "data.day.unique()"
   ]
  },
  {
   "cell_type": "code",
   "execution_count": 221,
   "metadata": {},
   "outputs": [],
   "source": [
    "#   短期特征 构建lagging特征  取前7天（时序数据）\n",
    "\n",
    "# 提取前i天的记录作为特征\n",
    "def get_lagging_day(d,i):\n",
    "\n",
    "        return d + i\n",
    "\n",
    "def create_lagging(df,df_original,day):\n",
    "    \n",
    "\n",
    "    stat_columns = ['inNums', 'outNums']\n",
    "    # tmp用来构建时序特征\n",
    "    tmp = df_original.copy()\n",
    "    tmp['day'] = tmp['day'].apply(get_lagging_day,args = (day,))\n",
    "    for i in range(len(stat_columns)):\n",
    "        tmp.rename(columns={stat_columns[i]: stat_columns[i] + '_lagging'+str(day)}, inplace=True)\n",
    "        stat_columns[i]+='_lagging'+str(day)\n",
    "        \n",
    "    stat_columns.extend(['stationID', 'day', 'hour', 'minute'])\n",
    "    tmp = tmp[stat_columns]\n",
    "    df = df.merge(tmp, on=['stationID', 'day', 'hour', 'minute'], how='left')\n",
    "    return df\n",
    "data_lagging = create_lagging(data,data, 1)\n",
    "for i in range(2,8):\n",
    "    data_lagging = create_lagging(data_lagging, data, i)"
   ]
  },
  {
   "cell_type": "code",
   "execution_count": 222,
   "metadata": {},
   "outputs": [
    {
     "data": {
      "text/html": [
       "<div>\n",
       "<style scoped>\n",
       "    .dataframe tbody tr th:only-of-type {\n",
       "        vertical-align: middle;\n",
       "    }\n",
       "\n",
       "    .dataframe tbody tr th {\n",
       "        vertical-align: top;\n",
       "    }\n",
       "\n",
       "    .dataframe thead th {\n",
       "        text-align: right;\n",
       "    }\n",
       "</style>\n",
       "<table border=\"1\" class=\"dataframe\">\n",
       "  <thead>\n",
       "    <tr style=\"text-align: right;\">\n",
       "      <th></th>\n",
       "      <th>stationID</th>\n",
       "      <th>hour</th>\n",
       "      <th>minute</th>\n",
       "      <th>day</th>\n",
       "      <th>inNums</th>\n",
       "      <th>lineID</th>\n",
       "      <th>outNums</th>\n",
       "      <th>week</th>\n",
       "      <th>weekend</th>\n",
       "      <th>lineID_new</th>\n",
       "      <th>...</th>\n",
       "      <th>inNums_lagging3</th>\n",
       "      <th>outNums_lagging3</th>\n",
       "      <th>inNums_lagging4</th>\n",
       "      <th>outNums_lagging4</th>\n",
       "      <th>inNums_lagging5</th>\n",
       "      <th>outNums_lagging5</th>\n",
       "      <th>inNums_lagging6</th>\n",
       "      <th>outNums_lagging6</th>\n",
       "      <th>inNums_lagging7</th>\n",
       "      <th>outNums_lagging7</th>\n",
       "    </tr>\n",
       "  </thead>\n",
       "  <tbody>\n",
       "    <tr>\n",
       "      <th>0</th>\n",
       "      <td>0</td>\n",
       "      <td>0</td>\n",
       "      <td>0</td>\n",
       "      <td>26.0</td>\n",
       "      <td>0.0</td>\n",
       "      <td>B</td>\n",
       "      <td>1.0</td>\n",
       "      <td>6.0</td>\n",
       "      <td>1.0</td>\n",
       "      <td>2.0</td>\n",
       "      <td>...</td>\n",
       "      <td>0.0</td>\n",
       "      <td>2.0</td>\n",
       "      <td>0.0</td>\n",
       "      <td>3.0</td>\n",
       "      <td>0.0</td>\n",
       "      <td>0.0</td>\n",
       "      <td>0.0</td>\n",
       "      <td>0.0</td>\n",
       "      <td>0.0</td>\n",
       "      <td>0.0</td>\n",
       "    </tr>\n",
       "    <tr>\n",
       "      <th>1</th>\n",
       "      <td>0</td>\n",
       "      <td>0</td>\n",
       "      <td>10</td>\n",
       "      <td>26.0</td>\n",
       "      <td>0.0</td>\n",
       "      <td>B</td>\n",
       "      <td>3.0</td>\n",
       "      <td>6.0</td>\n",
       "      <td>1.0</td>\n",
       "      <td>2.0</td>\n",
       "      <td>...</td>\n",
       "      <td>0.0</td>\n",
       "      <td>0.0</td>\n",
       "      <td>0.0</td>\n",
       "      <td>0.0</td>\n",
       "      <td>0.0</td>\n",
       "      <td>0.0</td>\n",
       "      <td>0.0</td>\n",
       "      <td>0.0</td>\n",
       "      <td>0.0</td>\n",
       "      <td>0.0</td>\n",
       "    </tr>\n",
       "    <tr>\n",
       "      <th>2</th>\n",
       "      <td>0</td>\n",
       "      <td>0</td>\n",
       "      <td>20</td>\n",
       "      <td>26.0</td>\n",
       "      <td>0.0</td>\n",
       "      <td>B</td>\n",
       "      <td>2.0</td>\n",
       "      <td>6.0</td>\n",
       "      <td>1.0</td>\n",
       "      <td>2.0</td>\n",
       "      <td>...</td>\n",
       "      <td>0.0</td>\n",
       "      <td>0.0</td>\n",
       "      <td>0.0</td>\n",
       "      <td>0.0</td>\n",
       "      <td>0.0</td>\n",
       "      <td>0.0</td>\n",
       "      <td>0.0</td>\n",
       "      <td>0.0</td>\n",
       "      <td>0.0</td>\n",
       "      <td>0.0</td>\n",
       "    </tr>\n",
       "    <tr>\n",
       "      <th>3</th>\n",
       "      <td>0</td>\n",
       "      <td>0</td>\n",
       "      <td>30</td>\n",
       "      <td>26.0</td>\n",
       "      <td>0.0</td>\n",
       "      <td>B</td>\n",
       "      <td>0.0</td>\n",
       "      <td>6.0</td>\n",
       "      <td>1.0</td>\n",
       "      <td>2.0</td>\n",
       "      <td>...</td>\n",
       "      <td>0.0</td>\n",
       "      <td>0.0</td>\n",
       "      <td>0.0</td>\n",
       "      <td>0.0</td>\n",
       "      <td>2.0</td>\n",
       "      <td>0.0</td>\n",
       "      <td>0.0</td>\n",
       "      <td>0.0</td>\n",
       "      <td>0.0</td>\n",
       "      <td>0.0</td>\n",
       "    </tr>\n",
       "    <tr>\n",
       "      <th>4</th>\n",
       "      <td>0</td>\n",
       "      <td>0</td>\n",
       "      <td>40</td>\n",
       "      <td>26.0</td>\n",
       "      <td>0.0</td>\n",
       "      <td>B</td>\n",
       "      <td>0.0</td>\n",
       "      <td>6.0</td>\n",
       "      <td>1.0</td>\n",
       "      <td>2.0</td>\n",
       "      <td>...</td>\n",
       "      <td>1.0</td>\n",
       "      <td>1.0</td>\n",
       "      <td>0.0</td>\n",
       "      <td>0.0</td>\n",
       "      <td>0.0</td>\n",
       "      <td>0.0</td>\n",
       "      <td>0.0</td>\n",
       "      <td>0.0</td>\n",
       "      <td>0.0</td>\n",
       "      <td>0.0</td>\n",
       "    </tr>\n",
       "  </tbody>\n",
       "</table>\n",
       "<p>5 rows × 25 columns</p>\n",
       "</div>"
      ],
      "text/plain": [
       "   stationID  hour  minute   day  inNums lineID  outNums  week  weekend  \\\n",
       "0          0     0       0  26.0     0.0      B      1.0   6.0      1.0   \n",
       "1          0     0      10  26.0     0.0      B      3.0   6.0      1.0   \n",
       "2          0     0      20  26.0     0.0      B      2.0   6.0      1.0   \n",
       "3          0     0      30  26.0     0.0      B      0.0   6.0      1.0   \n",
       "4          0     0      40  26.0     0.0      B      0.0   6.0      1.0   \n",
       "\n",
       "   lineID_new        ...         inNums_lagging3  outNums_lagging3  \\\n",
       "0         2.0        ...                     0.0               2.0   \n",
       "1         2.0        ...                     0.0               0.0   \n",
       "2         2.0        ...                     0.0               0.0   \n",
       "3         2.0        ...                     0.0               0.0   \n",
       "4         2.0        ...                     1.0               1.0   \n",
       "\n",
       "   inNums_lagging4  outNums_lagging4  inNums_lagging5  outNums_lagging5  \\\n",
       "0              0.0               3.0              0.0               0.0   \n",
       "1              0.0               0.0              0.0               0.0   \n",
       "2              0.0               0.0              0.0               0.0   \n",
       "3              0.0               0.0              2.0               0.0   \n",
       "4              0.0               0.0              0.0               0.0   \n",
       "\n",
       "   inNums_lagging6  outNums_lagging6  inNums_lagging7  outNums_lagging7  \n",
       "0              0.0               0.0              0.0               0.0  \n",
       "1              0.0               0.0              0.0               0.0  \n",
       "2              0.0               0.0              0.0               0.0  \n",
       "3              0.0               0.0              0.0               0.0  \n",
       "4              0.0               0.0              0.0               0.0  \n",
       "\n",
       "[5 rows x 25 columns]"
      ]
     },
     "execution_count": 222,
     "metadata": {},
     "output_type": "execute_result"
    }
   ],
   "source": [
    "data_lagging.head()"
   ]
  },
  {
   "cell_type": "code",
   "execution_count": 223,
   "metadata": {},
   "outputs": [
    {
     "data": {
      "text/plain": [
       "array([26.,  1.,  2.,  3.,  4.,  5.,  6.,  7.,  8.,  9., 10., 11., 12.,\n",
       "       13., 14., 15., 16., 17., 18., 19., 20., 21., 22., 23., 24., 25.,\n",
       "       27.])"
      ]
     },
     "execution_count": 223,
     "metadata": {},
     "output_type": "execute_result"
    }
   ],
   "source": [
    "data_lagging.day.unique()"
   ]
  },
  {
   "cell_type": "code",
   "execution_count": 224,
   "metadata": {},
   "outputs": [
    {
     "data": {
      "text/plain": [
       "stationID               0\n",
       "hour                    0\n",
       "minute                  0\n",
       "day                     0\n",
       "inNums                  0\n",
       "lineID                  0\n",
       "outNums                 0\n",
       "week                    0\n",
       "weekend                 0\n",
       "lineID_new              0\n",
       "stationID_new           0\n",
       "inNums_lagging1     11664\n",
       "outNums_lagging1    11664\n",
       "inNums_lagging2     23328\n",
       "outNums_lagging2    23328\n",
       "inNums_lagging3     34992\n",
       "outNums_lagging3    34992\n",
       "inNums_lagging4     46656\n",
       "outNums_lagging4    46656\n",
       "inNums_lagging5     58320\n",
       "outNums_lagging5    58320\n",
       "inNums_lagging6     69984\n",
       "outNums_lagging6    69984\n",
       "inNums_lagging7     81648\n",
       "outNums_lagging7    81648\n",
       "dtype: int64"
      ]
     },
     "execution_count": 224,
     "metadata": {},
     "output_type": "execute_result"
    }
   ],
   "source": [
    "data_lagging.isnull().sum()"
   ]
  },
  {
   "cell_type": "code",
   "execution_count": 225,
   "metadata": {},
   "outputs": [],
   "source": [
    "data=data_lagging"
   ]
  },
  {
   "cell_type": "code",
   "execution_count": 226,
   "metadata": {},
   "outputs": [],
   "source": [
    "# 选取9号后作为数据集\n",
    "data=data[data.day>=9]"
   ]
  },
  {
   "cell_type": "code",
   "execution_count": 227,
   "metadata": {},
   "outputs": [
    {
     "data": {
      "text/plain": [
       "stationID           0\n",
       "hour                0\n",
       "minute              0\n",
       "day                 0\n",
       "inNums              0\n",
       "lineID              0\n",
       "outNums             0\n",
       "week                0\n",
       "weekend             0\n",
       "lineID_new          0\n",
       "stationID_new       0\n",
       "inNums_lagging1     0\n",
       "outNums_lagging1    0\n",
       "inNums_lagging2     0\n",
       "outNums_lagging2    0\n",
       "inNums_lagging3     0\n",
       "outNums_lagging3    0\n",
       "inNums_lagging4     0\n",
       "outNums_lagging4    0\n",
       "inNums_lagging5     0\n",
       "outNums_lagging5    0\n",
       "inNums_lagging6     0\n",
       "outNums_lagging6    0\n",
       "inNums_lagging7     0\n",
       "outNums_lagging7    0\n",
       "dtype: int64"
      ]
     },
     "execution_count": 227,
     "metadata": {},
     "output_type": "execute_result"
    }
   ],
   "source": [
    "data.isnull().sum()"
   ]
  },
  {
   "cell_type": "code",
   "execution_count": 228,
   "metadata": {},
   "outputs": [
    {
     "data": {
      "text/plain": [
       "Index(['stationID', 'hour', 'minute', 'day', 'inNums', 'lineID', 'outNums',\n",
       "       'week', 'weekend', 'lineID_new', 'stationID_new', 'inNums_lagging1',\n",
       "       'outNums_lagging1', 'inNums_lagging2', 'outNums_lagging2',\n",
       "       'inNums_lagging3', 'outNums_lagging3', 'inNums_lagging4',\n",
       "       'outNums_lagging4', 'inNums_lagging5', 'outNums_lagging5',\n",
       "       'inNums_lagging6', 'outNums_lagging6', 'inNums_lagging7',\n",
       "       'outNums_lagging7'],\n",
       "      dtype='object')"
      ]
     },
     "execution_count": 228,
     "metadata": {},
     "output_type": "execute_result"
    }
   ],
   "source": [
    "data.columns"
   ]
  },
  {
   "cell_type": "code",
   "execution_count": 229,
   "metadata": {},
   "outputs": [
    {
     "data": {
      "text/plain": [
       "array([26.,  9., 10., 11., 12., 13., 14., 15., 16., 17., 18., 19., 20.,\n",
       "       21., 22., 23., 24., 25., 27.])"
      ]
     },
     "execution_count": 229,
     "metadata": {},
     "output_type": "execute_result"
    }
   ],
   "source": [
    "data.day.unique()"
   ]
  },
  {
   "cell_type": "code",
   "execution_count": 230,
   "metadata": {},
   "outputs": [],
   "source": [
    "# 添加lagging的统计特征\n",
    "\n",
    "#3天内的统计值\n",
    "def get_new_features(data):\n",
    "    data['inNums_mean_3']=data[['inNums_lagging1','inNums_lagging2','inNums_lagging3']].mean(axis=1)\n",
    "#     data['inNums_max_3']=data[['inNums_lagging1','inNums_lagging2','inNums_lagging3']].max(axis=1)\n",
    "#     data['inNums_min_3']=data[['inNums_lagging1','inNums_lagging2','inNums_lagging3']].min(axis=1)\n",
    "#     data['inNums_median_3']=data[['inNums_lagging1','inNums_lagging2','inNums_lagging3']].median(axis=1)\n",
    "#     data['inNums_percenrt_1_3']=data['inNums_lagging1']/(data[['inNums_lagging1','inNums_lagging2','inNums_lagging3']].sum(axis=1)+1e-5)\n",
    "#     data['inNums_percenrt_2_3']=data['inNums_lagging1']/(data[['inNums_lagging1','inNums_lagging2','inNums_lagging3']].sum(axis=1)+1e-5)\n",
    "#     data['inNums_percenrt_3_3']=data['inNums_lagging1']/(data[['inNums_lagging1','inNums_lagging2','inNums_lagging3']].sum(axis=1)+1e-5)\n",
    "    \n",
    "    data['inNums_diff_1']=data['inNums_lagging1']-data['inNums_lagging2']\n",
    "    data['inNums_diff_2']=data['inNums_lagging2']-data['inNums_lagging3']\n",
    "    data['inNums_diff1_2']=data['inNums_diff_1']-data['inNums_diff_2']\n",
    "    data['inNums_divide_1']=data['inNums_lagging1']/(data['inNums_lagging2']+1e-5)\n",
    "    data['inNums_divide_2']=data['inNums_lagging2']/(data['inNums_lagging3']+1e-5)\n",
    "    \n",
    "    \n",
    "    data['outNums_mean_3']=data[['outNums_lagging1','outNums_lagging2','outNums_lagging3']].mean(axis=1)\n",
    "#     data['outNums_max_3']=data[['outNums_lagging1','outNums_lagging2','outNums_lagging3']].max(axis=1)\n",
    "#     data['outNums_min_3']=data[['outNums_lagging1','outNums_lagging2','outNums_lagging3']].min(axis=1)\n",
    "                                                   \n",
    "    data['outNums_diff_1']=data['outNums_lagging1']-data['outNums_lagging2']\n",
    "    data['outNums_diff_2']=data['outNums_lagging2']-data['outNums_lagging3']\n",
    "    data['outNums_diff1_2']=data['outNums_diff_1']-data['outNums_diff_2']\n",
    "    data['outNums_divide_1']=data['outNums_lagging1']/(data['outNums_lagging2']+1e-5)\n",
    "    data['outNums_divide_2']=data['outNums_lagging2']/(data['outNums_lagging3']+1e-5)\n",
    "#     data['outNums_percenrt_1_3']=data['outNums_lagging1']/(data[['outNums_lagging1','outNums_lagging2','outNums_lagging3']].sum(axis=1)+1e-5)\n",
    "#     data['outNums_percenrt_2_3']=data['outNums_lagging2']/(data[['outNums_lagging1','outNums_lagging2','outNums_lagging3']].sum(axis=1)+1e-5)\n",
    "#     data['outNums_percenrt_3_3']=data['outNums_lagging3']/(data[['outNums_lagging1','outNums_lagging2','outNums_lagging3']].sum(axis=1)+1e-5)\n",
    "                                                   \n",
    "    return data\n"
   ]
  },
  {
   "cell_type": "code",
   "execution_count": 231,
   "metadata": {},
   "outputs": [
    {
     "name": "stderr",
     "output_type": "stream",
     "text": [
      "E:\\Anaconda3\\lib\\site-packages\\ipykernel_launcher.py:5: SettingWithCopyWarning: \n",
      "A value is trying to be set on a copy of a slice from a DataFrame.\n",
      "Try using .loc[row_indexer,col_indexer] = value instead\n",
      "\n",
      "See the caveats in the documentation: http://pandas.pydata.org/pandas-docs/stable/indexing.html#indexing-view-versus-copy\n",
      "  \"\"\"\n",
      "E:\\Anaconda3\\lib\\site-packages\\ipykernel_launcher.py:6: SettingWithCopyWarning: \n",
      "A value is trying to be set on a copy of a slice from a DataFrame.\n",
      "Try using .loc[row_indexer,col_indexer] = value instead\n",
      "\n",
      "See the caveats in the documentation: http://pandas.pydata.org/pandas-docs/stable/indexing.html#indexing-view-versus-copy\n",
      "  \n",
      "E:\\Anaconda3\\lib\\site-packages\\ipykernel_launcher.py:7: SettingWithCopyWarning: \n",
      "A value is trying to be set on a copy of a slice from a DataFrame.\n",
      "Try using .loc[row_indexer,col_indexer] = value instead\n",
      "\n",
      "See the caveats in the documentation: http://pandas.pydata.org/pandas-docs/stable/indexing.html#indexing-view-versus-copy\n",
      "  import sys\n",
      "E:\\Anaconda3\\lib\\site-packages\\ipykernel_launcher.py:8: SettingWithCopyWarning: \n",
      "A value is trying to be set on a copy of a slice from a DataFrame.\n",
      "Try using .loc[row_indexer,col_indexer] = value instead\n",
      "\n",
      "See the caveats in the documentation: http://pandas.pydata.org/pandas-docs/stable/indexing.html#indexing-view-versus-copy\n",
      "  \n",
      "E:\\Anaconda3\\lib\\site-packages\\ipykernel_launcher.py:9: SettingWithCopyWarning: \n",
      "A value is trying to be set on a copy of a slice from a DataFrame.\n",
      "Try using .loc[row_indexer,col_indexer] = value instead\n",
      "\n",
      "See the caveats in the documentation: http://pandas.pydata.org/pandas-docs/stable/indexing.html#indexing-view-versus-copy\n",
      "  if __name__ == '__main__':\n",
      "E:\\Anaconda3\\lib\\site-packages\\ipykernel_launcher.py:10: SettingWithCopyWarning: \n",
      "A value is trying to be set on a copy of a slice from a DataFrame.\n",
      "Try using .loc[row_indexer,col_indexer] = value instead\n",
      "\n",
      "See the caveats in the documentation: http://pandas.pydata.org/pandas-docs/stable/indexing.html#indexing-view-versus-copy\n",
      "  # Remove the CWD from sys.path while we load stuff.\n",
      "E:\\Anaconda3\\lib\\site-packages\\ipykernel_launcher.py:11: SettingWithCopyWarning: \n",
      "A value is trying to be set on a copy of a slice from a DataFrame.\n",
      "Try using .loc[row_indexer,col_indexer] = value instead\n",
      "\n",
      "See the caveats in the documentation: http://pandas.pydata.org/pandas-docs/stable/indexing.html#indexing-view-versus-copy\n",
      "  # This is added back by InteractiveShellApp.init_path()\n",
      "E:\\Anaconda3\\lib\\site-packages\\ipykernel_launcher.py:13: SettingWithCopyWarning: \n",
      "A value is trying to be set on a copy of a slice from a DataFrame.\n",
      "Try using .loc[row_indexer,col_indexer] = value instead\n",
      "\n",
      "See the caveats in the documentation: http://pandas.pydata.org/pandas-docs/stable/indexing.html#indexing-view-versus-copy\n",
      "  del sys.path[0]\n",
      "E:\\Anaconda3\\lib\\site-packages\\ipykernel_launcher.py:14: SettingWithCopyWarning: \n",
      "A value is trying to be set on a copy of a slice from a DataFrame.\n",
      "Try using .loc[row_indexer,col_indexer] = value instead\n",
      "\n",
      "See the caveats in the documentation: http://pandas.pydata.org/pandas-docs/stable/indexing.html#indexing-view-versus-copy\n",
      "  \n",
      "E:\\Anaconda3\\lib\\site-packages\\ipykernel_launcher.py:15: SettingWithCopyWarning: \n",
      "A value is trying to be set on a copy of a slice from a DataFrame.\n",
      "Try using .loc[row_indexer,col_indexer] = value instead\n",
      "\n",
      "See the caveats in the documentation: http://pandas.pydata.org/pandas-docs/stable/indexing.html#indexing-view-versus-copy\n",
      "  from ipykernel import kernelapp as app\n",
      "E:\\Anaconda3\\lib\\site-packages\\ipykernel_launcher.py:16: SettingWithCopyWarning: \n",
      "A value is trying to be set on a copy of a slice from a DataFrame.\n",
      "Try using .loc[row_indexer,col_indexer] = value instead\n",
      "\n",
      "See the caveats in the documentation: http://pandas.pydata.org/pandas-docs/stable/indexing.html#indexing-view-versus-copy\n",
      "  app.launch_new_instance()\n",
      "E:\\Anaconda3\\lib\\site-packages\\ipykernel_launcher.py:17: SettingWithCopyWarning: \n",
      "A value is trying to be set on a copy of a slice from a DataFrame.\n",
      "Try using .loc[row_indexer,col_indexer] = value instead\n",
      "\n",
      "See the caveats in the documentation: http://pandas.pydata.org/pandas-docs/stable/indexing.html#indexing-view-versus-copy\n",
      "E:\\Anaconda3\\lib\\site-packages\\ipykernel_launcher.py:20: SettingWithCopyWarning: \n",
      "A value is trying to be set on a copy of a slice from a DataFrame.\n",
      "Try using .loc[row_indexer,col_indexer] = value instead\n",
      "\n",
      "See the caveats in the documentation: http://pandas.pydata.org/pandas-docs/stable/indexing.html#indexing-view-versus-copy\n",
      "E:\\Anaconda3\\lib\\site-packages\\ipykernel_launcher.py:21: SettingWithCopyWarning: \n",
      "A value is trying to be set on a copy of a slice from a DataFrame.\n",
      "Try using .loc[row_indexer,col_indexer] = value instead\n",
      "\n",
      "See the caveats in the documentation: http://pandas.pydata.org/pandas-docs/stable/indexing.html#indexing-view-versus-copy\n",
      "E:\\Anaconda3\\lib\\site-packages\\ipykernel_launcher.py:22: SettingWithCopyWarning: \n",
      "A value is trying to be set on a copy of a slice from a DataFrame.\n",
      "Try using .loc[row_indexer,col_indexer] = value instead\n",
      "\n",
      "See the caveats in the documentation: http://pandas.pydata.org/pandas-docs/stable/indexing.html#indexing-view-versus-copy\n",
      "E:\\Anaconda3\\lib\\site-packages\\ipykernel_launcher.py:24: SettingWithCopyWarning: \n",
      "A value is trying to be set on a copy of a slice from a DataFrame.\n",
      "Try using .loc[row_indexer,col_indexer] = value instead\n",
      "\n",
      "See the caveats in the documentation: http://pandas.pydata.org/pandas-docs/stable/indexing.html#indexing-view-versus-copy\n",
      "E:\\Anaconda3\\lib\\site-packages\\ipykernel_launcher.py:25: SettingWithCopyWarning: \n",
      "A value is trying to be set on a copy of a slice from a DataFrame.\n",
      "Try using .loc[row_indexer,col_indexer] = value instead\n",
      "\n",
      "See the caveats in the documentation: http://pandas.pydata.org/pandas-docs/stable/indexing.html#indexing-view-versus-copy\n",
      "E:\\Anaconda3\\lib\\site-packages\\ipykernel_launcher.py:26: SettingWithCopyWarning: \n",
      "A value is trying to be set on a copy of a slice from a DataFrame.\n",
      "Try using .loc[row_indexer,col_indexer] = value instead\n",
      "\n",
      "See the caveats in the documentation: http://pandas.pydata.org/pandas-docs/stable/indexing.html#indexing-view-versus-copy\n",
      "E:\\Anaconda3\\lib\\site-packages\\ipykernel_launcher.py:27: SettingWithCopyWarning: \n",
      "A value is trying to be set on a copy of a slice from a DataFrame.\n",
      "Try using .loc[row_indexer,col_indexer] = value instead\n",
      "\n",
      "See the caveats in the documentation: http://pandas.pydata.org/pandas-docs/stable/indexing.html#indexing-view-versus-copy\n",
      "E:\\Anaconda3\\lib\\site-packages\\ipykernel_launcher.py:28: SettingWithCopyWarning: \n",
      "A value is trying to be set on a copy of a slice from a DataFrame.\n",
      "Try using .loc[row_indexer,col_indexer] = value instead\n",
      "\n",
      "See the caveats in the documentation: http://pandas.pydata.org/pandas-docs/stable/indexing.html#indexing-view-versus-copy\n",
      "E:\\Anaconda3\\lib\\site-packages\\ipykernel_launcher.py:29: SettingWithCopyWarning: \n",
      "A value is trying to be set on a copy of a slice from a DataFrame.\n",
      "Try using .loc[row_indexer,col_indexer] = value instead\n",
      "\n",
      "See the caveats in the documentation: http://pandas.pydata.org/pandas-docs/stable/indexing.html#indexing-view-versus-copy\n",
      "E:\\Anaconda3\\lib\\site-packages\\ipykernel_launcher.py:30: SettingWithCopyWarning: \n",
      "A value is trying to be set on a copy of a slice from a DataFrame.\n",
      "Try using .loc[row_indexer,col_indexer] = value instead\n",
      "\n",
      "See the caveats in the documentation: http://pandas.pydata.org/pandas-docs/stable/indexing.html#indexing-view-versus-copy\n",
      "E:\\Anaconda3\\lib\\site-packages\\ipykernel_launcher.py:31: SettingWithCopyWarning: \n",
      "A value is trying to be set on a copy of a slice from a DataFrame.\n",
      "Try using .loc[row_indexer,col_indexer] = value instead\n",
      "\n",
      "See the caveats in the documentation: http://pandas.pydata.org/pandas-docs/stable/indexing.html#indexing-view-versus-copy\n"
     ]
    }
   ],
   "source": [
    "data=get_new_features(data)"
   ]
  },
  {
   "cell_type": "code",
   "execution_count": 232,
   "metadata": {},
   "outputs": [
    {
     "data": {
      "text/plain": [
       "stationID               0\n",
       "hour                    0\n",
       "minute                  0\n",
       "day                     0\n",
       "inNums                  0\n",
       "lineID                  0\n",
       "outNums                 0\n",
       "week                    0\n",
       "weekend                 0\n",
       "lineID_new              0\n",
       "stationID_new           0\n",
       "inNums_lagging1         0\n",
       "outNums_lagging1        0\n",
       "inNums_lagging2         0\n",
       "outNums_lagging2        0\n",
       "inNums_lagging3         0\n",
       "outNums_lagging3        0\n",
       "inNums_lagging4         0\n",
       "outNums_lagging4        0\n",
       "inNums_lagging5         0\n",
       "outNums_lagging5        0\n",
       "inNums_lagging6         0\n",
       "outNums_lagging6        0\n",
       "inNums_lagging7         0\n",
       "outNums_lagging7        0\n",
       "inNums_mean_3           0\n",
       "inNums_max_3            0\n",
       "inNums_min_3            0\n",
       "inNums_median_3         0\n",
       "inNums_percenrt_1_3     0\n",
       "inNums_percenrt_2_3     0\n",
       "inNums_percenrt_3_3     0\n",
       "inNums_diff_1           0\n",
       "inNums_diff_2           0\n",
       "inNums_diff1_2          0\n",
       "inNums_divide_1         0\n",
       "inNums_divide_2         0\n",
       "outNums_mean_3          0\n",
       "outNums_max_3           0\n",
       "outNums_min_3           0\n",
       "outNums_diff_1          0\n",
       "outNums_diff_2          0\n",
       "outNums_diff1_2         0\n",
       "outNums_divide_1        0\n",
       "outNums_divide_2        0\n",
       "outNums_percenrt_1_3    0\n",
       "outNums_percenrt_2_3    0\n",
       "outNums_percenrt_3_3    0\n",
       "dtype: int64"
      ]
     },
     "execution_count": 232,
     "metadata": {},
     "output_type": "execute_result"
    }
   ],
   "source": [
    "data.isnull().sum()"
   ]
  },
  {
   "cell_type": "code",
   "execution_count": 233,
   "metadata": {},
   "outputs": [],
   "source": [
    "# # 新特征  周1-4  为1类    周5为1类   hour:   0-4为一段  5为一段 6为一段   7为一段 8为一段  9为一段  10-15 为一段   16为一段 17为一段   18为一段  19-21为一段 22为一段  23为一段\n",
    "# def get_week_hour_new(data):\n",
    "# #     data.loc[data['week'].isin([1, 2, 3,4，5]), 'day_of_week_en'] = 1\n",
    "# #     data.loc[data['week'].isin([5]), 'day_of_week_en'] = 2\n",
    "\n",
    "#     data.loc[data['hour'].isin([0,1,2,3,4,5,6]), 'hour_en'] = 1\n",
    "#     data.loc[data['hour'].isin([7,8]), 'hour_en'] = 5\n",
    "#     data.loc[data['hour'].isin([9,10,11,12,13,14,15,16]), 'hour_en'] = 3\n",
    "#     data.loc[data['hour'].isin([17,18]), 'hour_en'] = 4\n",
    "#     data.loc[data['hour'].isin([19,20,21,22,23]), 'hour_en'] = 2\n",
    "#     categorical_columns=['hour_en']\n",
    "#     data= pd.get_dummies(data, columns=categorical_columns)\n",
    "#     return data"
   ]
  },
  {
   "cell_type": "code",
   "execution_count": 234,
   "metadata": {},
   "outputs": [],
   "source": [
    "# data=get_week_hour_new(data)"
   ]
  },
  {
   "cell_type": "code",
   "execution_count": 235,
   "metadata": {},
   "outputs": [],
   "source": [
    "all_data = data[(data.day>=9) & (data.day<=26)]\n",
    "# 训练集\n",
    "train = data[(data.day>=9) & (data.day<26)]\n",
    "# 26验证集\n",
    "valid = data[data.day==26]\n",
    "# 29测试集\n",
    "test=data[data.day==27]"
   ]
  },
  {
   "cell_type": "code",
   "execution_count": 236,
   "metadata": {},
   "outputs": [
    {
     "data": {
      "text/plain": [
       "['stationID',\n",
       " 'hour',\n",
       " 'minute',\n",
       " 'day',\n",
       " 'lineID',\n",
       " 'week',\n",
       " 'weekend',\n",
       " 'lineID_new',\n",
       " 'stationID_new',\n",
       " 'inNums_lagging1',\n",
       " 'outNums_lagging1',\n",
       " 'inNums_lagging2',\n",
       " 'outNums_lagging2',\n",
       " 'inNums_lagging3',\n",
       " 'outNums_lagging3',\n",
       " 'inNums_lagging4',\n",
       " 'outNums_lagging4',\n",
       " 'inNums_lagging5',\n",
       " 'outNums_lagging5',\n",
       " 'inNums_lagging6',\n",
       " 'outNums_lagging6',\n",
       " 'inNums_lagging7',\n",
       " 'outNums_lagging7',\n",
       " 'inNums_mean_3',\n",
       " 'inNums_max_3',\n",
       " 'inNums_min_3',\n",
       " 'inNums_median_3',\n",
       " 'inNums_percenrt_1_3',\n",
       " 'inNums_percenrt_2_3',\n",
       " 'inNums_percenrt_3_3',\n",
       " 'inNums_diff_1',\n",
       " 'inNums_diff_2',\n",
       " 'inNums_diff1_2',\n",
       " 'inNums_divide_1',\n",
       " 'inNums_divide_2',\n",
       " 'outNums_mean_3',\n",
       " 'outNums_max_3',\n",
       " 'outNums_min_3',\n",
       " 'outNums_diff_1',\n",
       " 'outNums_diff_2',\n",
       " 'outNums_diff1_2',\n",
       " 'outNums_divide_1',\n",
       " 'outNums_divide_2',\n",
       " 'outNums_percenrt_1_3',\n",
       " 'outNums_percenrt_2_3',\n",
       " 'outNums_percenrt_3_3']"
      ]
     },
     "execution_count": 236,
     "metadata": {},
     "output_type": "execute_result"
    }
   ],
   "source": [
    "# all_columns = [f for f in data.columns if f not in ['weekend', 'inNums', 'outNums']]\n",
    "all_columns=[f for f in data.columns if f not in ['inNums', 'outNums']]\n",
    "all_columns"
   ]
  },
  {
   "cell_type": "code",
   "execution_count": 245,
   "metadata": {},
   "outputs": [],
   "source": [
    "all_columns=[\n",
    " 'hour',\n",
    " 'minute',\n",
    " 'day',\n",
    " 'week',\n",
    " 'stationID_new',\n",
    "'lineID_new',\n",
    "    'weekend',\n",
    "    \n",
    "#  'inNums_lagging1',\n",
    "\n",
    "#  'inNums_lagging2',\n",
    " \n",
    "#  'inNums_lagging3',\n",
    " \n",
    "#  'inNums_lagging4',\n",
    "\n",
    "#  'inNums_lagging5',\n",
    "    \n",
    "# 'inNums_lagging6',\n",
    "\n",
    "#  'inNums_lagging7',\n",
    "    \n",
    "#  'inNums_mean_3',   \n",
    "#     'inNums_diff_1',\n",
    "#  'inNums_diff_2',\n",
    "#  'inNums_diff1_2',\n",
    "#  'inNums_divide_1',\n",
    "#  'inNums_divide_2',\n",
    "    \n",
    "    \n",
    "#  'inNums_max_3',\n",
    "#  'inNums_min_3',\n",
    "#  'inNums_median_3',\n",
    "#  'inNums_percenrt_1_3',\n",
    "#  'inNums_percenrt_2_3',\n",
    "#  'inNums_percenrt_3_3',\n",
    " \n",
    "    \n",
    "     'outNums_lagging1',\n",
    "    'outNums_lagging2',\n",
    "    'outNums_lagging3',\n",
    "     'outNums_lagging4',\n",
    "     'outNums_lagging5',\n",
    "    'outNums_lagging6',\n",
    "     'outNums_lagging7',\n",
    " 'outNums_mean_3',\n",
    " 'outNums_diff_1',\n",
    " 'outNums_diff_2',\n",
    " 'outNums_diff1_2',\n",
    " 'outNums_divide_1',\n",
    " 'outNums_divide_2',\n",
    "    \n",
    "    \n",
    "#     'outNums_max_3',\n",
    "#  'outNums_min_3',\n",
    "#  'outNums_percenrt_1_3',\n",
    "#  'outNums_percenrt_2_3',\n",
    "#  'outNums_percenrt_3_3',\n",
    "]"
   ]
  },
  {
   "cell_type": "code",
   "execution_count": 246,
   "metadata": {},
   "outputs": [
    {
     "data": {
      "text/plain": [
       "array([26.,  9., 10., 11., 12., 13., 14., 15., 16., 17., 18., 19., 20.,\n",
       "       21., 22., 23., 24., 25., 27.])"
      ]
     },
     "execution_count": 246,
     "metadata": {},
     "output_type": "execute_result"
    }
   ],
   "source": [
    "data.day.unique()"
   ]
  },
  {
   "cell_type": "code",
   "execution_count": 247,
   "metadata": {},
   "outputs": [],
   "source": [
    "X_data = all_data[all_columns]\n",
    "# 训练集\n",
    "X_train =train[all_columns]\n",
    "\n",
    "# 26验证集\n",
    "\n",
    "X_valid = valid[all_columns]\n",
    "\n",
    "# 27测试集\n",
    "\n",
    "X_test = test[all_columns]"
   ]
  },
  {
   "cell_type": "code",
   "execution_count": 248,
   "metadata": {},
   "outputs": [
    {
     "data": {
      "text/plain": [
       "(198288, 20)"
      ]
     },
     "execution_count": 248,
     "metadata": {},
     "output_type": "execute_result"
    }
   ],
   "source": [
    "X_train.shape"
   ]
  },
  {
   "cell_type": "code",
   "execution_count": 249,
   "metadata": {
    "scrolled": true
   },
   "outputs": [
    {
     "data": {
      "text/plain": [
       "hour                0\n",
       "minute              0\n",
       "day                 0\n",
       "week                0\n",
       "stationID_new       0\n",
       "lineID_new          0\n",
       "weekend             0\n",
       "outNums_lagging1    0\n",
       "outNums_lagging2    0\n",
       "outNums_lagging3    0\n",
       "outNums_lagging4    0\n",
       "outNums_lagging5    0\n",
       "outNums_lagging6    0\n",
       "outNums_lagging7    0\n",
       "outNums_mean_3      0\n",
       "outNums_diff_1      0\n",
       "outNums_diff_2      0\n",
       "outNums_diff1_2     0\n",
       "outNums_divide_1    0\n",
       "outNums_divide_2    0\n",
       "dtype: int64"
      ]
     },
     "execution_count": 249,
     "metadata": {},
     "output_type": "execute_result"
    }
   ],
   "source": [
    "X_train.isnull().sum()"
   ]
  },
  {
   "cell_type": "code",
   "execution_count": 242,
   "metadata": {},
   "outputs": [],
   "source": [
    "# del X_train['inNums']\n",
    "# del X_valid['inNums']\n",
    "# del X_data['inNums']\n",
    "# del X_test['inNums']"
   ]
  },
  {
   "cell_type": "code",
   "execution_count": 243,
   "metadata": {
    "scrolled": true
   },
   "outputs": [
    {
     "name": "stdout",
     "output_type": "stream",
     "text": [
      "Training until validation scores don't improve for 200 rounds.\n",
      "[1000]\ttrain's l1: 0.129496\tvalid's l1: 0.15603\n",
      "[2000]\ttrain's l1: 0.124532\tvalid's l1: 0.155637\n",
      "[3000]\ttrain's l1: 0.120719\tvalid's l1: 0.155139\n",
      "[4000]\ttrain's l1: 0.117532\tvalid's l1: 0.154854\n",
      "[5000]\ttrain's l1: 0.114696\tvalid's l1: 0.154565\n",
      "[6000]\ttrain's l1: 0.112149\tvalid's l1: 0.15439\n",
      "[7000]\ttrain's l1: 0.109807\tvalid's l1: 0.154158\n",
      "[8000]\ttrain's l1: 0.107605\tvalid's l1: 0.154057\n",
      "Early stopping, best iteration is:\n",
      "[7907]\ttrain's l1: 0.107795\tvalid's l1: 0.154044\n",
      "[1000]\ttrain's l1: 0.130625\n",
      "[2000]\ttrain's l1: 0.125704\n",
      "[3000]\ttrain's l1: 0.121979\n",
      "[4000]\ttrain's l1: 0.118831\n",
      "[5000]\ttrain's l1: 0.116053\n",
      "[6000]\ttrain's l1: 0.113538\n",
      "[7000]\ttrain's l1: 0.111276\n",
      "             column  importance\n",
      "4     stationID_new       57316\n",
      "13  inNums_lagging7       39887\n",
      "12  inNums_lagging6       33705\n",
      "2               day       33223\n",
      "11  inNums_lagging5       30884\n",
      "10  inNums_lagging4       30018\n",
      "0              hour       29257\n",
      "18  inNums_divide_1       27206\n",
      "19  inNums_divide_2       26727\n",
      "7   inNums_lagging1       24435\n",
      "14    inNums_mean_3       22852\n",
      "3              week       22338\n",
      "17   inNums_diff1_2       20530\n",
      "9   inNums_lagging3       19509\n",
      "8   inNums_lagging2       17347\n",
      "1            minute       15854\n",
      "15    inNums_diff_1       15687\n",
      "16    inNums_diff_2       14947\n",
      "5        lineID_new        7774\n",
      "6           weekend         738\n"
     ]
    },
    {
     "name": "stderr",
     "output_type": "stream",
     "text": [
      "E:\\Anaconda3\\lib\\site-packages\\ipykernel_launcher.py:47: SettingWithCopyWarning: \n",
      "A value is trying to be set on a copy of a slice from a DataFrame.\n",
      "Try using .loc[row_indexer,col_indexer] = value instead\n",
      "\n",
      "See the caveats in the documentation: http://pandas.pydata.org/pandas-docs/stable/indexing.html#indexing-view-versus-copy\n"
     ]
    }
   ],
   "source": [
    "# 构建模型并训练\n",
    "params = {\n",
    "\n",
    "    \n",
    "    'boosting_type': 'gbdt',\n",
    "    'objective': 'regression',\n",
    "    'metric': 'mae',\n",
    "    'num_leaves': 63,\n",
    "    'learning_rate': 0.01,\n",
    "    'feature_fraction': 0.8,\n",
    "    'bagging_fraction': 0.9,\n",
    "    'bagging_seed':0,\n",
    "    'bagging_freq': 1,\n",
    "    'verbose': 1,\n",
    "    'reg_alpha':1,\n",
    "    'reg_lambda':2,\n",
    "    'min_child_weight':6\n",
    "}\n",
    "\n",
    "######################################################inNums\n",
    "y_train = np.log1p(train['inNums'])\n",
    "y_valid = np.log1p(valid['inNums'])\n",
    "y_data  =  np.log1p(all_data['inNums'])\n",
    "# categorical_feature= cate_cols指定类别特征\n",
    "lgb_train = lgb.Dataset(X_train, y_train)\n",
    "lgb_evals = lgb.Dataset(X_valid, y_valid , reference=lgb_train)\n",
    "\n",
    "# 通过验证集调参（超参数），进行模型选择\n",
    "gbm = lgb.train(params,\n",
    "                lgb_train,\n",
    "                num_boost_round=10000,\n",
    "                valid_sets=[lgb_train,lgb_evals],\n",
    "                valid_names=['train','valid'],\n",
    "                early_stopping_rounds=200,\n",
    "                verbose_eval=1000,\n",
    "                )\n",
    "valid_res_inNums=np.expm1(gbm.predict(X_valid))\n",
    "# 在训练集+验证集上进行训练最终模型\n",
    "lgb_train = lgb.Dataset(X_data, y_data)\n",
    "gbm = lgb.train(params,\n",
    "                lgb_train,\n",
    "                num_boost_round=gbm.best_iteration,\n",
    "                valid_sets=[lgb_train],\n",
    "                valid_names=['train'],\n",
    "                verbose_eval=1000,\n",
    "                )\n",
    "test['inNums'] = np.expm1(gbm.predict(X_test))\n",
    "\n",
    "#     特征重要性\n",
    "features=X_train.columns\n",
    "feature_rank=gbm.feature_importance()\n",
    "features_df=pd.DataFrame({ 'column':features,'importance': feature_rank}).sort_values(by='importance', ascending=False)\n",
    "print(features_df)"
   ]
  },
  {
   "cell_type": "code",
   "execution_count": 244,
   "metadata": {},
   "outputs": [
    {
     "data": {
      "text/plain": [
       "13.220548589632672"
      ]
     },
     "execution_count": 244,
     "metadata": {},
     "output_type": "execute_result"
    }
   ],
   "source": [
    "abs(valid['inNums'].values-valid_res_inNums).sum()/len(valid)"
   ]
  },
  {
   "cell_type": "code",
   "execution_count": null,
   "metadata": {},
   "outputs": [],
   "source": []
  },
  {
   "cell_type": "code",
   "execution_count": 250,
   "metadata": {
    "scrolled": true
   },
   "outputs": [
    {
     "name": "stdout",
     "output_type": "stream",
     "text": [
      "Training until validation scores don't improve for 200 rounds.\n",
      "[1000]\ttrain's l1: 0.130953\tvalid's l1: 0.176861\n",
      "Early stopping, best iteration is:\n",
      "[904]\ttrain's l1: 0.131606\tvalid's l1: 0.176818\n",
      "              column  importance\n",
      "13  outNums_lagging7        6622\n",
      "0               hour        6589\n",
      "4      stationID_new        5715\n",
      "2                day        5229\n",
      "3               week        4627\n",
      "7   outNums_lagging1        3942\n",
      "12  outNums_lagging6        3744\n",
      "14    outNums_mean_3        3431\n",
      "11  outNums_lagging5        2541\n",
      "10  outNums_lagging4        2479\n",
      "18  outNums_divide_1        1726\n",
      "8   outNums_lagging2        1626\n",
      "19  outNums_divide_2        1568\n",
      "9   outNums_lagging3        1213\n",
      "15    outNums_diff_1        1032\n",
      "17   outNums_diff1_2         976\n",
      "5         lineID_new         957\n",
      "1             minute         933\n",
      "16    outNums_diff_2         863\n",
      "6            weekend         235\n"
     ]
    },
    {
     "name": "stderr",
     "output_type": "stream",
     "text": [
      "E:\\Anaconda3\\lib\\site-packages\\ipykernel_launcher.py:35: SettingWithCopyWarning: \n",
      "A value is trying to be set on a copy of a slice from a DataFrame.\n",
      "Try using .loc[row_indexer,col_indexer] = value instead\n",
      "\n",
      "See the caveats in the documentation: http://pandas.pydata.org/pandas-docs/stable/indexing.html#indexing-view-versus-copy\n"
     ]
    }
   ],
   "source": [
    "######################################################outNums\n",
    "# 把innums添加为特征预测outNums\n",
    "# X_train['inNums']=np.log1p(train['inNums'].values)\n",
    "# X_valid['inNums']=np.log1p(valid['inNums'].values)\n",
    "# X_data['inNums']=np.log1p(X_data_innums)\n",
    "# X_test['inNums']=np.log1p(test['inNums'].values)\n",
    "\n",
    "y_train = np.log1p(train['outNums'])\n",
    "y_valid =  np.log1p(valid['outNums'])\n",
    "y_data  =  np.log1p(all_data['outNums'])\n",
    "\n",
    "lgb_train = lgb.Dataset(X_train, y_train)\n",
    "lgb_evals = lgb.Dataset(X_valid, y_valid , reference=lgb_train)\n",
    "gbm = lgb.train(params,\n",
    "                lgb_train,\n",
    "                num_boost_round=10000,\n",
    "                valid_sets=[lgb_train,lgb_evals],\n",
    "                valid_names=['train','valid'],\n",
    "                early_stopping_rounds=200,\n",
    "                verbose_eval=1000,\n",
    "                )\n",
    "\n",
    "valid_res_outNums=np.expm1(gbm.predict(X_valid))\n",
    "\n",
    "### all_data\n",
    "lgb_train = lgb.Dataset(X_data, y_data)\n",
    "gbm = lgb.train(params,\n",
    "                lgb_train,\n",
    "                num_boost_round=gbm.best_iteration,\n",
    "                valid_sets=[lgb_train],\n",
    "                valid_names=['train'],\n",
    "                verbose_eval=1000,\n",
    "                )\n",
    "\n",
    "test['outNums'] = np.expm1(gbm.predict(X_test))\n",
    "#     特征重要性\n",
    "features=X_train.columns\n",
    "feature_rank=gbm.feature_importance()\n",
    "features_df=pd.DataFrame({ 'column':features,'importance': feature_rank}).sort_values(by='importance', ascending=False)\n",
    "print(features_df)"
   ]
  },
  {
   "cell_type": "code",
   "execution_count": 252,
   "metadata": {},
   "outputs": [
    {
     "data": {
      "text/plain": [
       "15.578473852425127"
      ]
     },
     "execution_count": 252,
     "metadata": {},
     "output_type": "execute_result"
    }
   ],
   "source": [
    "abs(valid['outNums']-valid_res_outNums).sum()/11664"
   ]
  },
  {
   "cell_type": "code",
   "execution_count": 264,
   "metadata": {},
   "outputs": [],
   "source": [
    "sub = pd.read_csv(path + '/Metro_testB/testB_submit_2019-01-27.csv')\n",
    "# 4h前为0\n",
    "# test.loc[test.hour<4 , 'inNums']  = 0\n",
    "# test.loc[test.hour<4, 'outNums'] = 0\n",
    "sub['inNums']   = test['inNums'].values\n",
    "sub['outNums']  = test['outNums'].values\n",
    "# 结果修正\n",
    "sub.loc[sub.inNums<1 , 'inNums']  = 0\n",
    "sub.loc[sub.outNums<1, 'outNums'] = 0\n",
    "\n"
   ]
  },
  {
   "cell_type": "code",
   "execution_count": 265,
   "metadata": {},
   "outputs": [],
   "source": [
    "sub[['stationID', 'startTime', 'endTime', 'inNums', 'outNums']].to_csv('data/submit_baseline_fusai02.csv',index=False)"
   ]
  },
  {
   "cell_type": "code",
   "execution_count": 183,
   "metadata": {},
   "outputs": [
    {
     "data": {
      "image/png": "[encoded data removed]",
      "text/plain": [
       "<matplotlib.figure.Figure at 0x27b0137eeb8>"
      ]
     },
     "metadata": {
      "needs_background": "light"
     },
     "output_type": "display_data"
    }
   ],
   "source": [
    "plt.rcParams['figure.figsize'] = (20.0, 8.0)\n",
    "(data[(data.day.isin([26]))].groupby(['hour','day']).inNums.mean()).unstack().plot()\n",
    "plt.show()"
   ]
  },
  {
   "cell_type": "code",
   "execution_count": 157,
   "metadata": {},
   "outputs": [
    {
     "data": {
      "image/png": "[encoded data removed]",
      "text/plain": [
       "<matplotlib.figure.Figure at 0x27b2b7651d0>"
      ]
     },
     "metadata": {
      "needs_background": "light"
     },
     "output_type": "display_data"
    }
   ],
   "source": [
    "# 数据分析EDA\n",
    "#stack简单说就是把columns转成index，unstack就是反过来\n",
    "plt.rcParams['figure.figsize'] = (20.0, 8.0)\n",
    "data.groupby(['hour', 'day']).outNums.sum().unstack().plot()\n",
    "plt.show()"
   ]
  },
  {
   "cell_type": "code",
   "execution_count": 258,
   "metadata": {
    "scrolled": true
   },
   "outputs": [
    {
     "data": {
      "text/plain": [
       "1059598.2376760284"
      ]
     },
     "execution_count": 258,
     "metadata": {},
     "output_type": "execute_result"
    }
   ],
   "source": [
    "test['inNums'].sum()"
   ]
  },
  {
   "cell_type": "code",
   "execution_count": 259,
   "metadata": {},
   "outputs": [
    {
     "data": {
      "text/plain": [
       "1123837.0"
      ]
     },
     "execution_count": 259,
     "metadata": {},
     "output_type": "execute_result"
    }
   ],
   "source": [
    "valid['inNums'].sum()"
   ]
  },
  {
   "cell_type": "code",
   "execution_count": 260,
   "metadata": {},
   "outputs": [
    {
     "data": {
      "text/plain": [
       "1089476.107210519"
      ]
     },
     "execution_count": 260,
     "metadata": {},
     "output_type": "execute_result"
    }
   ],
   "source": [
    "valid_res_inNums.sum()"
   ]
  },
  {
   "cell_type": "code",
   "execution_count": 262,
   "metadata": {},
   "outputs": [
    {
     "data": {
      "text/plain": [
       "<matplotlib.axes._subplots.AxesSubplot at 0x27b013acef0>"
      ]
     },
     "execution_count": 262,
     "metadata": {},
     "output_type": "execute_result"
    },
    {
     "data": {
      "image/png": "[encoded data removed]",
      "text/plain": [
       "<matplotlib.figure.Figure at 0x27b01872198>"
      ]
     },
     "metadata": {
      "needs_background": "light"
     },
     "output_type": "display_data"
    }
   ],
   "source": [
    "np.log1p(test['outNums']).hist(bins=100)"
   ]
  },
  {
   "cell_type": "code",
   "execution_count": 156,
   "metadata": {},
   "outputs": [
    {
     "data": {
      "text/plain": [
       "array([26.,  9., 10., 11., 12., 13., 14., 15., 16., 17., 18., 19., 20.,\n",
       "       21., 22., 23., 24., 25., 27.])"
      ]
     },
     "execution_count": 156,
     "metadata": {},
     "output_type": "execute_result"
    }
   ],
   "source": [
    "data.day.unique()"
   ]
  },
  {
   "cell_type": "code",
   "execution_count": 231,
   "metadata": {},
   "outputs": [
    {
     "data": {
      "text/html": [
       "<div>\n",
       "<style scoped>\n",
       "    .dataframe tbody tr th:only-of-type {\n",
       "        vertical-align: middle;\n",
       "    }\n",
       "\n",
       "    .dataframe tbody tr th {\n",
       "        vertical-align: top;\n",
       "    }\n",
       "\n",
       "    .dataframe thead th {\n",
       "        text-align: right;\n",
       "    }\n",
       "</style>\n",
       "<table border=\"1\" class=\"dataframe\">\n",
       "  <thead>\n",
       "    <tr style=\"text-align: right;\">\n",
       "      <th></th>\n",
       "      <th>stationID</th>\n",
       "      <th>hour</th>\n",
       "      <th>minute</th>\n",
       "      <th>day</th>\n",
       "      <th>week</th>\n",
       "      <th>inNums_whm_max</th>\n",
       "      <th>inNums_whm_min</th>\n",
       "      <th>inNums_whm_mean</th>\n",
       "      <th>inNums_whm_median</th>\n",
       "      <th>outNums_whm_max</th>\n",
       "      <th>...</th>\n",
       "      <th>outNums_whm_median</th>\n",
       "      <th>inNums_wh_max</th>\n",
       "      <th>inNums_wh_min</th>\n",
       "      <th>inNums_wh_mean</th>\n",
       "      <th>inNums_wh_median</th>\n",
       "      <th>outNums_wh_max</th>\n",
       "      <th>outNums_wh_min</th>\n",
       "      <th>outNums_wh_mean</th>\n",
       "      <th>outNums_wh_median</th>\n",
       "      <th>inNums</th>\n",
       "    </tr>\n",
       "  </thead>\n",
       "  <tbody>\n",
       "    <tr>\n",
       "      <th>0</th>\n",
       "      <td>0</td>\n",
       "      <td>0</td>\n",
       "      <td>0</td>\n",
       "      <td>29.0</td>\n",
       "      <td>2.0</td>\n",
       "      <td>0.0</td>\n",
       "      <td>0.0</td>\n",
       "      <td>0.0</td>\n",
       "      <td>0.0</td>\n",
       "      <td>3.0</td>\n",
       "      <td>...</td>\n",
       "      <td>1.5</td>\n",
       "      <td>0.0</td>\n",
       "      <td>0.0</td>\n",
       "      <td>0.0</td>\n",
       "      <td>0.0</td>\n",
       "      <td>3.0</td>\n",
       "      <td>0.0</td>\n",
       "      <td>0.25</td>\n",
       "      <td>0.0</td>\n",
       "      <td>0.227262</td>\n",
       "    </tr>\n",
       "    <tr>\n",
       "      <th>1</th>\n",
       "      <td>0</td>\n",
       "      <td>0</td>\n",
       "      <td>10</td>\n",
       "      <td>29.0</td>\n",
       "      <td>2.0</td>\n",
       "      <td>0.0</td>\n",
       "      <td>0.0</td>\n",
       "      <td>0.0</td>\n",
       "      <td>0.0</td>\n",
       "      <td>0.0</td>\n",
       "      <td>...</td>\n",
       "      <td>0.0</td>\n",
       "      <td>0.0</td>\n",
       "      <td>0.0</td>\n",
       "      <td>0.0</td>\n",
       "      <td>0.0</td>\n",
       "      <td>3.0</td>\n",
       "      <td>0.0</td>\n",
       "      <td>0.25</td>\n",
       "      <td>0.0</td>\n",
       "      <td>0.105688</td>\n",
       "    </tr>\n",
       "    <tr>\n",
       "      <th>2</th>\n",
       "      <td>0</td>\n",
       "      <td>0</td>\n",
       "      <td>20</td>\n",
       "      <td>29.0</td>\n",
       "      <td>2.0</td>\n",
       "      <td>0.0</td>\n",
       "      <td>0.0</td>\n",
       "      <td>0.0</td>\n",
       "      <td>0.0</td>\n",
       "      <td>0.0</td>\n",
       "      <td>...</td>\n",
       "      <td>0.0</td>\n",
       "      <td>0.0</td>\n",
       "      <td>0.0</td>\n",
       "      <td>0.0</td>\n",
       "      <td>0.0</td>\n",
       "      <td>3.0</td>\n",
       "      <td>0.0</td>\n",
       "      <td>0.25</td>\n",
       "      <td>0.0</td>\n",
       "      <td>0.101258</td>\n",
       "    </tr>\n",
       "    <tr>\n",
       "      <th>3</th>\n",
       "      <td>0</td>\n",
       "      <td>0</td>\n",
       "      <td>30</td>\n",
       "      <td>29.0</td>\n",
       "      <td>2.0</td>\n",
       "      <td>0.0</td>\n",
       "      <td>0.0</td>\n",
       "      <td>0.0</td>\n",
       "      <td>0.0</td>\n",
       "      <td>0.0</td>\n",
       "      <td>...</td>\n",
       "      <td>0.0</td>\n",
       "      <td>0.0</td>\n",
       "      <td>0.0</td>\n",
       "      <td>0.0</td>\n",
       "      <td>0.0</td>\n",
       "      <td>3.0</td>\n",
       "      <td>0.0</td>\n",
       "      <td>0.25</td>\n",
       "      <td>0.0</td>\n",
       "      <td>0.101184</td>\n",
       "    </tr>\n",
       "    <tr>\n",
       "      <th>4</th>\n",
       "      <td>0</td>\n",
       "      <td>0</td>\n",
       "      <td>40</td>\n",
       "      <td>29.0</td>\n",
       "      <td>2.0</td>\n",
       "      <td>0.0</td>\n",
       "      <td>0.0</td>\n",
       "      <td>0.0</td>\n",
       "      <td>0.0</td>\n",
       "      <td>0.0</td>\n",
       "      <td>...</td>\n",
       "      <td>0.0</td>\n",
       "      <td>0.0</td>\n",
       "      <td>0.0</td>\n",
       "      <td>0.0</td>\n",
       "      <td>0.0</td>\n",
       "      <td>3.0</td>\n",
       "      <td>0.0</td>\n",
       "      <td>0.25</td>\n",
       "      <td>0.0</td>\n",
       "      <td>0.088921</td>\n",
       "    </tr>\n",
       "  </tbody>\n",
       "</table>\n",
       "<p>5 rows × 22 columns</p>\n",
       "</div>"
      ],
      "text/plain": [
       "   stationID  hour  minute   day  week  inNums_whm_max  inNums_whm_min  \\\n",
       "0          0     0       0  29.0   2.0             0.0             0.0   \n",
       "1          0     0      10  29.0   2.0             0.0             0.0   \n",
       "2          0     0      20  29.0   2.0             0.0             0.0   \n",
       "3          0     0      30  29.0   2.0             0.0             0.0   \n",
       "4          0     0      40  29.0   2.0             0.0             0.0   \n",
       "\n",
       "   inNums_whm_mean  inNums_whm_median  outNums_whm_max    ...     \\\n",
       "0              0.0                0.0              3.0    ...      \n",
       "1              0.0                0.0              0.0    ...      \n",
       "2              0.0                0.0              0.0    ...      \n",
       "3              0.0                0.0              0.0    ...      \n",
       "4              0.0                0.0              0.0    ...      \n",
       "\n",
       "   outNums_whm_median  inNums_wh_max  inNums_wh_min  inNums_wh_mean  \\\n",
       "0                 1.5            0.0            0.0             0.0   \n",
       "1                 0.0            0.0            0.0             0.0   \n",
       "2                 0.0            0.0            0.0             0.0   \n",
       "3                 0.0            0.0            0.0             0.0   \n",
       "4                 0.0            0.0            0.0             0.0   \n",
       "\n",
       "   inNums_wh_median  outNums_wh_max  outNums_wh_min  outNums_wh_mean  \\\n",
       "0               0.0             3.0             0.0             0.25   \n",
       "1               0.0             3.0             0.0             0.25   \n",
       "2               0.0             3.0             0.0             0.25   \n",
       "3               0.0             3.0             0.0             0.25   \n",
       "4               0.0             3.0             0.0             0.25   \n",
       "\n",
       "   outNums_wh_median    inNums  \n",
       "0                0.0  0.227262  \n",
       "1                0.0  0.105688  \n",
       "2                0.0  0.101258  \n",
       "3                0.0  0.101184  \n",
       "4                0.0  0.088921  \n",
       "\n",
       "[5 rows x 22 columns]"
      ]
     },
     "execution_count": 231,
     "metadata": {},
     "output_type": "execute_result"
    }
   ],
   "source": [
    "X_test.head()"
   ]
  },
  {
   "cell_type": "code",
   "execution_count": null,
   "metadata": {},
   "outputs": [],
   "source": [
    "def quantile_clip(group):\n",
    "    group.plot()\n",
    "    group[group < group.quantile(.05)] = group.quantile(.05)\n",
    "    group[group > group.quantile(.95)] = group.quantile(.95)\n",
    "    group.plot()\n",
    "    plt.show()\n",
    "    return group\n",
    "\n",
    "data_eda.groupby(['stationID', 'day','hour','minute'])['inNums'].transform(quantile_clip)"
   ]
  },
  {
   "cell_type": "code",
   "execution_count": null,
   "metadata": {},
   "outputs": [],
   "source": []
  }
 ],
 "metadata": {
  "kernelspec": {
   "display_name": "Python 3",
   "language": "python",
   "name": "python3"
  },
  "language_info": {
   "codemirror_mode": {
    "name": "ipython",
    "version": 3
   },
   "file_extension": ".py",
   "mimetype": "text/x-python",
   "name": "python",
   "nbconvert_exporter": "python",
   "pygments_lexer": "ipython3",
   "version": "3.6.4"
  }
 },
 "nbformat": 4,
 "nbformat_minor": 2
}
