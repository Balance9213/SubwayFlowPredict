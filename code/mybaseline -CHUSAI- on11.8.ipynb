{
 "cells": [
  {
   "cell_type": "code",
   "execution_count": 336,
   "metadata": {},
   "outputs": [],
   "source": [
    "import pandas as pd\n",
    "import lightgbm as lgb\n",
    "import os\n",
    "import numpy as np\n",
    "import matplotlib.pyplot as plt\n",
    "import seaborn as sns"
   ]
  },
  {
   "cell_type": "code",
   "execution_count": 337,
   "metadata": {},
   "outputs": [],
   "source": [
    "path='./data'\n",
    "test = pd.read_csv(path + '/Metro_testB/testB_submit_2019-01-27.csv')\n",
    "test_26 = pd.read_csv(path + '/Metro_testA/testA_record_2019-01-26.csv')"
   ]
  },
  {
   "cell_type": "code",
   "execution_count": 338,
   "metadata": {},
   "outputs": [],
   "source": [
    "# 时间处理\n",
    "def process_time(df_):\n",
    "\n",
    "    df= df_.copy()\n",
    "    # base time\n",
    "    df['day'] = df['time'].apply(lambda x: int(x[8:10]))\n",
    "    df['week'] = pd.to_datetime(df['time']).dt.dayofweek + 1\n",
    "    df['weekend'] = (pd.to_datetime(df.time).dt.weekday >= 5).astype(int)\n",
    "    df['hour'] = df['time'].apply(lambda x: int(x[11:13]))\n",
    "    df['minute'] = df['time'].apply(lambda x: int(x[14:15] + '0'))\n",
    "    del df['time']\n",
    "    return df"
   ]
  },
  {
   "cell_type": "code",
   "execution_count": 332,
   "metadata": {},
   "outputs": [],
   "source": [
    "data = process_time(test_28)"
   ]
  },
  {
   "cell_type": "code",
   "execution_count": 293,
   "metadata": {},
   "outputs": [],
   "source": [
    "# 构造基本特征\n",
    "def get_base_features(df):\n",
    "    \n",
    "    # count,sum\n",
    "    result = df.groupby(['stationID','week', 'lineID','weekend', 'day', 'hour', 'minute']).status.agg(\n",
    "        ['count', 'sum']).reset_index()\n",
    "    \n",
    "    # 各个站每10分钟一段的流量情况\n",
    "    result['inNums'] = result['sum']\n",
    "    result['outNums'] = result['count'] - result['sum']\n",
    "\n",
    "    result['day_since_first'] = result['day'] - 1\n",
    "    result.fillna(0, inplace=True)\n",
    "    \n",
    "    del result['sum'], result['count']\n",
    "    return result"
   ]
  },
  {
   "cell_type": "code",
   "execution_count": 6,
   "metadata": {},
   "outputs": [
    {
     "data": {
      "text/html": [
       "<div>\n",
       "<style scoped>\n",
       "    .dataframe tbody tr th:only-of-type {\n",
       "        vertical-align: middle;\n",
       "    }\n",
       "\n",
       "    .dataframe tbody tr th {\n",
       "        vertical-align: top;\n",
       "    }\n",
       "\n",
       "    .dataframe thead th {\n",
       "        text-align: right;\n",
       "    }\n",
       "</style>\n",
       "<table border=\"1\" class=\"dataframe\">\n",
       "  <thead>\n",
       "    <tr style=\"text-align: right;\">\n",
       "      <th></th>\n",
       "      <th>stationID</th>\n",
       "      <th>week</th>\n",
       "      <th>lineID</th>\n",
       "      <th>weekend</th>\n",
       "      <th>day</th>\n",
       "      <th>hour</th>\n",
       "      <th>minute</th>\n",
       "      <th>nuni_deviceID_of_stationID</th>\n",
       "      <th>nuni_deviceID_of_stationID_hour</th>\n",
       "      <th>nuni_deviceID_of_stationID_hour_minute</th>\n",
       "      <th>inNums</th>\n",
       "      <th>outNums</th>\n",
       "      <th>day_since_first</th>\n",
       "    </tr>\n",
       "  </thead>\n",
       "  <tbody>\n",
       "    <tr>\n",
       "      <th>0</th>\n",
       "      <td>0</td>\n",
       "      <td>1</td>\n",
       "      <td>B</td>\n",
       "      <td>0</td>\n",
       "      <td>28</td>\n",
       "      <td>0</td>\n",
       "      <td>0</td>\n",
       "      <td>18</td>\n",
       "      <td>3</td>\n",
       "      <td>1</td>\n",
       "      <td>0</td>\n",
       "      <td>1</td>\n",
       "      <td>27</td>\n",
       "    </tr>\n",
       "    <tr>\n",
       "      <th>1</th>\n",
       "      <td>0</td>\n",
       "      <td>1</td>\n",
       "      <td>B</td>\n",
       "      <td>0</td>\n",
       "      <td>28</td>\n",
       "      <td>0</td>\n",
       "      <td>10</td>\n",
       "      <td>18</td>\n",
       "      <td>3</td>\n",
       "      <td>2</td>\n",
       "      <td>0</td>\n",
       "      <td>2</td>\n",
       "      <td>27</td>\n",
       "    </tr>\n",
       "    <tr>\n",
       "      <th>2</th>\n",
       "      <td>0</td>\n",
       "      <td>1</td>\n",
       "      <td>B</td>\n",
       "      <td>0</td>\n",
       "      <td>28</td>\n",
       "      <td>4</td>\n",
       "      <td>30</td>\n",
       "      <td>18</td>\n",
       "      <td>1</td>\n",
       "      <td>1</td>\n",
       "      <td>0</td>\n",
       "      <td>1</td>\n",
       "      <td>27</td>\n",
       "    </tr>\n",
       "    <tr>\n",
       "      <th>3</th>\n",
       "      <td>0</td>\n",
       "      <td>1</td>\n",
       "      <td>B</td>\n",
       "      <td>0</td>\n",
       "      <td>28</td>\n",
       "      <td>5</td>\n",
       "      <td>30</td>\n",
       "      <td>18</td>\n",
       "      <td>11</td>\n",
       "      <td>5</td>\n",
       "      <td>22</td>\n",
       "      <td>0</td>\n",
       "      <td>27</td>\n",
       "    </tr>\n",
       "    <tr>\n",
       "      <th>4</th>\n",
       "      <td>0</td>\n",
       "      <td>1</td>\n",
       "      <td>B</td>\n",
       "      <td>0</td>\n",
       "      <td>28</td>\n",
       "      <td>5</td>\n",
       "      <td>40</td>\n",
       "      <td>18</td>\n",
       "      <td>11</td>\n",
       "      <td>7</td>\n",
       "      <td>14</td>\n",
       "      <td>0</td>\n",
       "      <td>27</td>\n",
       "    </tr>\n",
       "    <tr>\n",
       "      <th>5</th>\n",
       "      <td>0</td>\n",
       "      <td>1</td>\n",
       "      <td>B</td>\n",
       "      <td>0</td>\n",
       "      <td>28</td>\n",
       "      <td>5</td>\n",
       "      <td>50</td>\n",
       "      <td>18</td>\n",
       "      <td>11</td>\n",
       "      <td>10</td>\n",
       "      <td>53</td>\n",
       "      <td>1</td>\n",
       "      <td>27</td>\n",
       "    </tr>\n",
       "    <tr>\n",
       "      <th>6</th>\n",
       "      <td>0</td>\n",
       "      <td>1</td>\n",
       "      <td>B</td>\n",
       "      <td>0</td>\n",
       "      <td>28</td>\n",
       "      <td>6</td>\n",
       "      <td>0</td>\n",
       "      <td>18</td>\n",
       "      <td>18</td>\n",
       "      <td>7</td>\n",
       "      <td>35</td>\n",
       "      <td>0</td>\n",
       "      <td>27</td>\n",
       "    </tr>\n",
       "    <tr>\n",
       "      <th>7</th>\n",
       "      <td>0</td>\n",
       "      <td>1</td>\n",
       "      <td>B</td>\n",
       "      <td>0</td>\n",
       "      <td>28</td>\n",
       "      <td>6</td>\n",
       "      <td>10</td>\n",
       "      <td>18</td>\n",
       "      <td>18</td>\n",
       "      <td>10</td>\n",
       "      <td>43</td>\n",
       "      <td>0</td>\n",
       "      <td>27</td>\n",
       "    </tr>\n",
       "    <tr>\n",
       "      <th>8</th>\n",
       "      <td>0</td>\n",
       "      <td>1</td>\n",
       "      <td>B</td>\n",
       "      <td>0</td>\n",
       "      <td>28</td>\n",
       "      <td>6</td>\n",
       "      <td>20</td>\n",
       "      <td>18</td>\n",
       "      <td>18</td>\n",
       "      <td>10</td>\n",
       "      <td>76</td>\n",
       "      <td>1</td>\n",
       "      <td>27</td>\n",
       "    </tr>\n",
       "    <tr>\n",
       "      <th>9</th>\n",
       "      <td>0</td>\n",
       "      <td>1</td>\n",
       "      <td>B</td>\n",
       "      <td>0</td>\n",
       "      <td>28</td>\n",
       "      <td>6</td>\n",
       "      <td>30</td>\n",
       "      <td>18</td>\n",
       "      <td>18</td>\n",
       "      <td>16</td>\n",
       "      <td>142</td>\n",
       "      <td>25</td>\n",
       "      <td>27</td>\n",
       "    </tr>\n",
       "  </tbody>\n",
       "</table>\n",
       "</div>"
      ],
      "text/plain": [
       "   stationID  week lineID  weekend  day  hour  minute  \\\n",
       "0          0     1      B        0   28     0       0   \n",
       "1          0     1      B        0   28     0      10   \n",
       "2          0     1      B        0   28     4      30   \n",
       "3          0     1      B        0   28     5      30   \n",
       "4          0     1      B        0   28     5      40   \n",
       "5          0     1      B        0   28     5      50   \n",
       "6          0     1      B        0   28     6       0   \n",
       "7          0     1      B        0   28     6      10   \n",
       "8          0     1      B        0   28     6      20   \n",
       "9          0     1      B        0   28     6      30   \n",
       "\n",
       "   nuni_deviceID_of_stationID  nuni_deviceID_of_stationID_hour  \\\n",
       "0                          18                                3   \n",
       "1                          18                                3   \n",
       "2                          18                                1   \n",
       "3                          18                               11   \n",
       "4                          18                               11   \n",
       "5                          18                               11   \n",
       "6                          18                               18   \n",
       "7                          18                               18   \n",
       "8                          18                               18   \n",
       "9                          18                               18   \n",
       "\n",
       "   nuni_deviceID_of_stationID_hour_minute  inNums  outNums  day_since_first  \n",
       "0                                       1       0        1               27  \n",
       "1                                       2       0        2               27  \n",
       "2                                       1       0        1               27  \n",
       "3                                       5      22        0               27  \n",
       "4                                       7      14        0               27  \n",
       "5                                      10      53        1               27  \n",
       "6                                       7      35        0               27  \n",
       "7                                      10      43        0               27  \n",
       "8                                      10      76        1               27  \n",
       "9                                      16     142       25               27  "
      ]
     },
     "execution_count": 6,
     "metadata": {},
     "output_type": "execute_result"
    }
   ],
   "source": [
    "data= get_base_features(data)\n",
    "data.head(10)"
   ]
  },
  {
   "cell_type": "code",
   "execution_count": 7,
   "metadata": {
    "scrolled": true
   },
   "outputs": [
    {
     "name": "stdout",
     "output_type": "stream",
     "text": [
      "已加载 record_2019-01-01.csv 0\n",
      "已加载 record_2019-01-02.csv 1\n",
      "已加载 record_2019-01-03.csv 2\n",
      "已加载 record_2019-01-04.csv 3\n",
      "已加载 record_2019-01-05.csv 4\n",
      "已加载 record_2019-01-06.csv 5\n",
      "已加载 record_2019-01-07.csv 6\n",
      "已加载 record_2019-01-08.csv 7\n",
      "已加载 record_2019-01-09.csv 8\n",
      "已加载 record_2019-01-10.csv 9\n",
      "已加载 record_2019-01-11.csv 10\n",
      "已加载 record_2019-01-12.csv 11\n",
      "已加载 record_2019-01-13.csv 12\n",
      "已加载 record_2019-01-14.csv 13\n",
      "已加载 record_2019-01-15.csv 14\n",
      "已加载 record_2019-01-16.csv 15\n",
      "已加载 record_2019-01-17.csv 16\n",
      "已加载 record_2019-01-18.csv 17\n",
      "已加载 record_2019-01-19.csv 18\n",
      "已加载 record_2019-01-20.csv 19\n",
      "已加载 record_2019-01-21.csv 20\n",
      "已加载 record_2019-01-22.csv 21\n",
      "已加载 record_2019-01-23.csv 22\n",
      "已加载 record_2019-01-24.csv 23\n",
      "已加载 record_2019-01-25.csv 24\n"
     ]
    }
   ],
   "source": [
    "#加载所有文件数据\n",
    "\n",
    "data_list = os.listdir(path+'/Metro_train/')\n",
    "for i in range(0, len(data_list)):\n",
    "    if data_list[i].split('.')[-1] == 'csv':\n",
    "        print('已加载',data_list[i], i)\n",
    "        df = pd.read_csv(path+'/Metro_train/' + data_list[i])\n",
    "        df = process_time(df)\n",
    "        df = get_base_features(df)\n",
    "        data = pd.concat([data, df], axis=0, ignore_index=True)\n",
    "    else:\n",
    "        continue"
   ]
  },
  {
   "cell_type": "code",
   "execution_count": 339,
   "metadata": {},
   "outputs": [],
   "source": [
    "# 构建测试集\n",
    "\n",
    "test['week'] = pd.to_datetime(test['startTime']).dt.dayofweek + 1\n",
    "test['weekend'] = (pd.to_datetime(test.startTime).dt.weekday >= 5).astype(int)\n",
    "test['day'] = test['startTime'].apply(lambda x: int(x[8:10]))\n",
    "test['hour'] = test['startTime'].apply(lambda x: int(x[11:13]))\n",
    "test['minute'] = test['startTime'].apply(lambda x: int(x[14:15] + '0'))\n",
    "test['day_since_first'] = test['day'] - 1\n",
    "test = test.drop(['startTime', 'endTime'], axis=1)"
   ]
  },
  {
   "cell_type": "code",
   "execution_count": 377,
   "metadata": {},
   "outputs": [],
   "source": [
    "test['lineID']=test['stationID'].map(dict(zip(test_28.stationID,test_28.lineID)))"
   ]
  },
  {
   "cell_type": "code",
   "execution_count": 378,
   "metadata": {},
   "outputs": [
    {
     "data": {
      "text/html": [
       "<div>\n",
       "<style scoped>\n",
       "    .dataframe tbody tr th:only-of-type {\n",
       "        vertical-align: middle;\n",
       "    }\n",
       "\n",
       "    .dataframe tbody tr th {\n",
       "        vertical-align: top;\n",
       "    }\n",
       "\n",
       "    .dataframe thead th {\n",
       "        text-align: right;\n",
       "    }\n",
       "</style>\n",
       "<table border=\"1\" class=\"dataframe\">\n",
       "  <thead>\n",
       "    <tr style=\"text-align: right;\">\n",
       "      <th></th>\n",
       "      <th>stationID</th>\n",
       "      <th>inNums</th>\n",
       "      <th>outNums</th>\n",
       "      <th>week</th>\n",
       "      <th>weekend</th>\n",
       "      <th>day</th>\n",
       "      <th>hour</th>\n",
       "      <th>minute</th>\n",
       "      <th>day_since_first</th>\n",
       "      <th>lineID</th>\n",
       "    </tr>\n",
       "  </thead>\n",
       "  <tbody>\n",
       "    <tr>\n",
       "      <th>0</th>\n",
       "      <td>0</td>\n",
       "      <td>NaN</td>\n",
       "      <td>NaN</td>\n",
       "      <td>2</td>\n",
       "      <td>0</td>\n",
       "      <td>29</td>\n",
       "      <td>0</td>\n",
       "      <td>0</td>\n",
       "      <td>28</td>\n",
       "      <td>B</td>\n",
       "    </tr>\n",
       "    <tr>\n",
       "      <th>1</th>\n",
       "      <td>0</td>\n",
       "      <td>NaN</td>\n",
       "      <td>NaN</td>\n",
       "      <td>2</td>\n",
       "      <td>0</td>\n",
       "      <td>29</td>\n",
       "      <td>0</td>\n",
       "      <td>10</td>\n",
       "      <td>28</td>\n",
       "      <td>B</td>\n",
       "    </tr>\n",
       "    <tr>\n",
       "      <th>2</th>\n",
       "      <td>0</td>\n",
       "      <td>NaN</td>\n",
       "      <td>NaN</td>\n",
       "      <td>2</td>\n",
       "      <td>0</td>\n",
       "      <td>29</td>\n",
       "      <td>0</td>\n",
       "      <td>20</td>\n",
       "      <td>28</td>\n",
       "      <td>B</td>\n",
       "    </tr>\n",
       "    <tr>\n",
       "      <th>3</th>\n",
       "      <td>0</td>\n",
       "      <td>NaN</td>\n",
       "      <td>NaN</td>\n",
       "      <td>2</td>\n",
       "      <td>0</td>\n",
       "      <td>29</td>\n",
       "      <td>0</td>\n",
       "      <td>30</td>\n",
       "      <td>28</td>\n",
       "      <td>B</td>\n",
       "    </tr>\n",
       "    <tr>\n",
       "      <th>4</th>\n",
       "      <td>0</td>\n",
       "      <td>NaN</td>\n",
       "      <td>NaN</td>\n",
       "      <td>2</td>\n",
       "      <td>0</td>\n",
       "      <td>29</td>\n",
       "      <td>0</td>\n",
       "      <td>40</td>\n",
       "      <td>28</td>\n",
       "      <td>B</td>\n",
       "    </tr>\n",
       "  </tbody>\n",
       "</table>\n",
       "</div>"
      ],
      "text/plain": [
       "   stationID  inNums  outNums  week  weekend  day  hour  minute  \\\n",
       "0          0     NaN      NaN     2        0   29     0       0   \n",
       "1          0     NaN      NaN     2        0   29     0      10   \n",
       "2          0     NaN      NaN     2        0   29     0      20   \n",
       "3          0     NaN      NaN     2        0   29     0      30   \n",
       "4          0     NaN      NaN     2        0   29     0      40   \n",
       "\n",
       "   day_since_first lineID  \n",
       "0               28      B  \n",
       "1               28      B  \n",
       "2               28      B  \n",
       "3               28      B  \n",
       "4               28      B  "
      ]
     },
     "execution_count": 378,
     "metadata": {},
     "output_type": "execute_result"
    }
   ],
   "source": [
    "test.head()"
   ]
  },
  {
   "cell_type": "code",
   "execution_count": 10,
   "metadata": {},
   "outputs": [],
   "source": [
    "data = pd.concat([data, test], axis=0, ignore_index=True)"
   ]
  },
  {
   "cell_type": "code",
   "execution_count": 550,
   "metadata": {},
   "outputs": [
    {
     "data": {
      "text/html": [
       "<div>\n",
       "<style scoped>\n",
       "    .dataframe tbody tr th:only-of-type {\n",
       "        vertical-align: middle;\n",
       "    }\n",
       "\n",
       "    .dataframe tbody tr th {\n",
       "        vertical-align: top;\n",
       "    }\n",
       "\n",
       "    .dataframe thead th {\n",
       "        text-align: right;\n",
       "    }\n",
       "</style>\n",
       "<table border=\"1\" class=\"dataframe\">\n",
       "  <thead>\n",
       "    <tr style=\"text-align: right;\">\n",
       "      <th></th>\n",
       "      <th>day</th>\n",
       "      <th>hour</th>\n",
       "      <th>inNums</th>\n",
       "      <th>minute</th>\n",
       "      <th>outNums</th>\n",
       "      <th>stationID</th>\n",
       "      <th>week</th>\n",
       "      <th>lineID</th>\n",
       "    </tr>\n",
       "  </thead>\n",
       "  <tbody>\n",
       "    <tr>\n",
       "      <th>0</th>\n",
       "      <td>20</td>\n",
       "      <td>0</td>\n",
       "      <td>0.0</td>\n",
       "      <td>0</td>\n",
       "      <td>1.0</td>\n",
       "      <td>0</td>\n",
       "      <td>1</td>\n",
       "      <td>B</td>\n",
       "    </tr>\n",
       "    <tr>\n",
       "      <th>1</th>\n",
       "      <td>20</td>\n",
       "      <td>0</td>\n",
       "      <td>0.0</td>\n",
       "      <td>10</td>\n",
       "      <td>2.0</td>\n",
       "      <td>0</td>\n",
       "      <td>1</td>\n",
       "      <td>B</td>\n",
       "    </tr>\n",
       "    <tr>\n",
       "      <th>2</th>\n",
       "      <td>20</td>\n",
       "      <td>4</td>\n",
       "      <td>0.0</td>\n",
       "      <td>30</td>\n",
       "      <td>1.0</td>\n",
       "      <td>0</td>\n",
       "      <td>1</td>\n",
       "      <td>B</td>\n",
       "    </tr>\n",
       "    <tr>\n",
       "      <th>3</th>\n",
       "      <td>20</td>\n",
       "      <td>5</td>\n",
       "      <td>22.0</td>\n",
       "      <td>30</td>\n",
       "      <td>0.0</td>\n",
       "      <td>0</td>\n",
       "      <td>1</td>\n",
       "      <td>B</td>\n",
       "    </tr>\n",
       "    <tr>\n",
       "      <th>4</th>\n",
       "      <td>20</td>\n",
       "      <td>5</td>\n",
       "      <td>14.0</td>\n",
       "      <td>40</td>\n",
       "      <td>0.0</td>\n",
       "      <td>0</td>\n",
       "      <td>1</td>\n",
       "      <td>B</td>\n",
       "    </tr>\n",
       "  </tbody>\n",
       "</table>\n",
       "</div>"
      ],
      "text/plain": [
       "   day  hour  inNums  minute  outNums  stationID  week lineID\n",
       "0   20     0     0.0       0      1.0          0     1      B\n",
       "1   20     0     0.0      10      2.0          0     1      B\n",
       "2   20     4     0.0      30      1.0          0     1      B\n",
       "3   20     5    22.0      30      0.0          0     1      B\n",
       "4   20     5    14.0      40      0.0          0     1      B"
      ]
     },
     "execution_count": 550,
     "metadata": {},
     "output_type": "execute_result"
    }
   ],
   "source": [
    "data.head()"
   ]
  },
  {
   "cell_type": "code",
   "execution_count": 546,
   "metadata": {},
   "outputs": [],
   "source": [
    "data_8=data_7.copy()"
   ]
  },
  {
   "cell_type": "code",
   "execution_count": 547,
   "metadata": {},
   "outputs": [],
   "source": [
    "data=data_8"
   ]
  },
  {
   "cell_type": "code",
   "execution_count": 548,
   "metadata": {},
   "outputs": [
    {
     "data": {
      "text/plain": [
       "array([20,  1,  2,  3,  4,  5,  6,  7,  8,  9, 10, 11, 12, 13, 14, 15, 16,\n",
       "       17, 18, 19, 29], dtype=int64)"
      ]
     },
     "execution_count": 548,
     "metadata": {},
     "output_type": "execute_result"
    }
   ],
   "source": [
    "data.day.unique()"
   ]
  },
  {
   "cell_type": "code",
   "execution_count": 549,
   "metadata": {},
   "outputs": [
    {
     "data": {
      "text/plain": [
       "29    11664\n",
       "17     9188\n",
       "19     9181\n",
       "16     9153\n",
       "18     9147\n",
       "20     9124\n",
       "7      9086\n",
       "13     9072\n",
       "15     9069\n",
       "2      9046\n",
       "8      9038\n",
       "3      9028\n",
       "11     9023\n",
       "9      9006\n",
       "6      8989\n",
       "14     8984\n",
       "12     8974\n",
       "4      8968\n",
       "5      8959\n",
       "10     8946\n",
       "1      8941\n",
       "Name: day, dtype: int64"
      ]
     },
     "execution_count": 549,
     "metadata": {},
     "output_type": "execute_result"
    }
   ],
   "source": [
    "data.day.value_counts()"
   ]
  },
  {
   "cell_type": "code",
   "execution_count": 309,
   "metadata": {},
   "outputs": [],
   "source": [
    "# # 构建lineID\n",
    "data['lineID']=data['stationID'].map(dict(zip(test_28.stationID,test_28.lineID)))\n",
    "\n",
    "lineID_new=data.groupby(['lineID']).inNums.mean().sort_values().index\n",
    "data['lineID_new']=data['lineID'].map(dict(zip(lineID_new,range(3))))"
   ]
  },
  {
   "cell_type": "code",
   "execution_count": null,
   "metadata": {},
   "outputs": [],
   "source": [
    "# data.drop(['day_since_first','nuni_deviceID_of_stationID', 'nuni_deviceID_of_stationID_hour',\n",
    "#        'nuni_deviceID_of_stationID_hour_minute','weekend'],axis=1,inplace=True)"
   ]
  },
  {
   "cell_type": "code",
   "execution_count": 551,
   "metadata": {},
   "outputs": [],
   "source": [
    "# 补充时段缺失值\n",
    "def get_new_data(data,test,i):\n",
    "    temp=test[['stationID','hour','minute']]\n",
    "    temp2=data[data.day==i]\n",
    "    temp=temp.merge(temp2,on=['stationID','hour','minute'],how='left')\n",
    "    temp.fillna({'day':i,'week':temp2.week.unique()[0],'inNums':0,'outNums':0},inplace=True)\n",
    "    return temp"
   ]
  },
  {
   "cell_type": "code",
   "execution_count": 552,
   "metadata": {},
   "outputs": [
    {
     "data": {
      "text/plain": [
       "array([20,  1,  2,  3,  4,  5,  6,  7,  8,  9, 10, 11, 12, 13, 14, 15, 16,\n",
       "       17, 18, 19, 29], dtype=int64)"
      ]
     },
     "execution_count": 552,
     "metadata": {},
     "output_type": "execute_result"
    }
   ],
   "source": [
    "data.day.unique()[:]"
   ]
  },
  {
   "cell_type": "code",
   "execution_count": 553,
   "metadata": {},
   "outputs": [],
   "source": [
    "data_new=get_new_data(data,test,20)\n",
    "for i in data.day.unique()[1:]:   \n",
    "    temp_df=get_new_data(data,test,i)\n",
    "    data_new = pd.concat([data_new, temp_df], axis=0, ignore_index=True)"
   ]
  },
  {
   "cell_type": "code",
   "execution_count": 554,
   "metadata": {},
   "outputs": [
    {
     "data": {
      "text/plain": [
       "stationID        0\n",
       "hour             0\n",
       "minute           0\n",
       "day              0\n",
       "inNums           0\n",
       "outNums          0\n",
       "week             0\n",
       "lineID       52502\n",
       "dtype: int64"
      ]
     },
     "execution_count": 554,
     "metadata": {},
     "output_type": "execute_result"
    }
   ],
   "source": [
    "data_new.isnull().sum()"
   ]
  },
  {
   "cell_type": "code",
   "execution_count": 555,
   "metadata": {},
   "outputs": [],
   "source": [
    "data=data_new"
   ]
  },
  {
   "cell_type": "code",
   "execution_count": 556,
   "metadata": {},
   "outputs": [
    {
     "data": {
      "text/plain": [
       "array([20.,  1.,  2.,  3.,  4.,  5.,  6.,  7.,  8.,  9., 10., 11., 12.,\n",
       "       13., 14., 15., 16., 17., 18., 19., 29.])"
      ]
     },
     "execution_count": 556,
     "metadata": {},
     "output_type": "execute_result"
    }
   ],
   "source": [
    "data.day.unique()"
   ]
  },
  {
   "cell_type": "code",
   "execution_count": 557,
   "metadata": {},
   "outputs": [],
   "source": [
    "# stationID重新编码  按平均出入次数\n",
    "def get_station_new(data):\n",
    "    stationID_new=data.groupby(['stationID']).inNums.mean().sort_values().index\n",
    "    data['stationID_new']=data['stationID'].map(dict(zip(stationID_new,range(81))))\n",
    "    return data"
   ]
  },
  {
   "cell_type": "code",
   "execution_count": 558,
   "metadata": {},
   "outputs": [],
   "source": [
    "data=get_station_new(data)"
   ]
  },
  {
   "cell_type": "code",
   "execution_count": 559,
   "metadata": {},
   "outputs": [],
   "source": [
    "#   短期特征 构建lagging特征  取前1,2,3,天（时序数据）\n",
    "\n",
    "# 提取前i天的记录作为特征\n",
    "def get_lagging_day(d,i):\n",
    "    if d+i== 21:\n",
    "        # 20在修改前对应28号数据\n",
    "        return 29\n",
    "    else:\n",
    "        return d + i\n",
    "\n",
    "def create_lagging(df,df_original,day):\n",
    "    \n",
    "\n",
    "    stat_columns = ['inNums', 'outNums']\n",
    "    # tmp用来构建时序特征\n",
    "    tmp = df_original.copy()\n",
    "    tmp['day'] = tmp['day'].apply(get_lagging_day,args = (day,))\n",
    "    for i in range(len(stat_columns)):\n",
    "        tmp.rename(columns={stat_columns[i]: stat_columns[i] + '_lagging'+str(day)}, inplace=True)\n",
    "        stat_columns[i]+='_lagging'+str(day)\n",
    "        \n",
    "    stat_columns.extend(['stationID', 'day', 'hour', 'minute'])\n",
    "    tmp = tmp[stat_columns]\n",
    "    df = df.merge(tmp, on=['stationID', 'day', 'hour', 'minute'], how='left')\n",
    "    return df\n",
    "data_lagging = create_lagging(data,data, 1)\n",
    "for i in range(2,6):\n",
    "    data_lagging = create_lagging(data_lagging, data, i)"
   ]
  },
  {
   "cell_type": "code",
   "execution_count": 560,
   "metadata": {},
   "outputs": [
    {
     "data": {
      "text/html": [
       "<div>\n",
       "<style scoped>\n",
       "    .dataframe tbody tr th:only-of-type {\n",
       "        vertical-align: middle;\n",
       "    }\n",
       "\n",
       "    .dataframe tbody tr th {\n",
       "        vertical-align: top;\n",
       "    }\n",
       "\n",
       "    .dataframe thead th {\n",
       "        text-align: right;\n",
       "    }\n",
       "</style>\n",
       "<table border=\"1\" class=\"dataframe\">\n",
       "  <thead>\n",
       "    <tr style=\"text-align: right;\">\n",
       "      <th></th>\n",
       "      <th>stationID</th>\n",
       "      <th>hour</th>\n",
       "      <th>minute</th>\n",
       "      <th>day</th>\n",
       "      <th>inNums</th>\n",
       "      <th>outNums</th>\n",
       "      <th>week</th>\n",
       "      <th>lineID</th>\n",
       "      <th>stationID_new</th>\n",
       "      <th>inNums_lagging1</th>\n",
       "      <th>outNums_lagging1</th>\n",
       "      <th>inNums_lagging2</th>\n",
       "      <th>outNums_lagging2</th>\n",
       "      <th>inNums_lagging3</th>\n",
       "      <th>outNums_lagging3</th>\n",
       "      <th>inNums_lagging4</th>\n",
       "      <th>outNums_lagging4</th>\n",
       "      <th>inNums_lagging5</th>\n",
       "      <th>outNums_lagging5</th>\n",
       "    </tr>\n",
       "  </thead>\n",
       "  <tbody>\n",
       "    <tr>\n",
       "      <th>0</th>\n",
       "      <td>0</td>\n",
       "      <td>0</td>\n",
       "      <td>0</td>\n",
       "      <td>20.0</td>\n",
       "      <td>0.0</td>\n",
       "      <td>1.0</td>\n",
       "      <td>1.0</td>\n",
       "      <td>B</td>\n",
       "      <td>38</td>\n",
       "      <td>0.0</td>\n",
       "      <td>2.0</td>\n",
       "      <td>0.0</td>\n",
       "      <td>2.0</td>\n",
       "      <td>0.0</td>\n",
       "      <td>2.0</td>\n",
       "      <td>0.0</td>\n",
       "      <td>3.0</td>\n",
       "      <td>0.0</td>\n",
       "      <td>0.0</td>\n",
       "    </tr>\n",
       "    <tr>\n",
       "      <th>1</th>\n",
       "      <td>0</td>\n",
       "      <td>0</td>\n",
       "      <td>10</td>\n",
       "      <td>20.0</td>\n",
       "      <td>0.0</td>\n",
       "      <td>2.0</td>\n",
       "      <td>1.0</td>\n",
       "      <td>B</td>\n",
       "      <td>38</td>\n",
       "      <td>0.0</td>\n",
       "      <td>3.0</td>\n",
       "      <td>0.0</td>\n",
       "      <td>1.0</td>\n",
       "      <td>0.0</td>\n",
       "      <td>0.0</td>\n",
       "      <td>0.0</td>\n",
       "      <td>0.0</td>\n",
       "      <td>0.0</td>\n",
       "      <td>0.0</td>\n",
       "    </tr>\n",
       "    <tr>\n",
       "      <th>2</th>\n",
       "      <td>0</td>\n",
       "      <td>0</td>\n",
       "      <td>20</td>\n",
       "      <td>20.0</td>\n",
       "      <td>0.0</td>\n",
       "      <td>0.0</td>\n",
       "      <td>1.0</td>\n",
       "      <td>NaN</td>\n",
       "      <td>38</td>\n",
       "      <td>0.0</td>\n",
       "      <td>0.0</td>\n",
       "      <td>0.0</td>\n",
       "      <td>0.0</td>\n",
       "      <td>0.0</td>\n",
       "      <td>0.0</td>\n",
       "      <td>0.0</td>\n",
       "      <td>0.0</td>\n",
       "      <td>0.0</td>\n",
       "      <td>0.0</td>\n",
       "    </tr>\n",
       "    <tr>\n",
       "      <th>3</th>\n",
       "      <td>0</td>\n",
       "      <td>0</td>\n",
       "      <td>30</td>\n",
       "      <td>20.0</td>\n",
       "      <td>0.0</td>\n",
       "      <td>0.0</td>\n",
       "      <td>1.0</td>\n",
       "      <td>NaN</td>\n",
       "      <td>38</td>\n",
       "      <td>0.0</td>\n",
       "      <td>0.0</td>\n",
       "      <td>0.0</td>\n",
       "      <td>0.0</td>\n",
       "      <td>0.0</td>\n",
       "      <td>0.0</td>\n",
       "      <td>0.0</td>\n",
       "      <td>0.0</td>\n",
       "      <td>2.0</td>\n",
       "      <td>0.0</td>\n",
       "    </tr>\n",
       "    <tr>\n",
       "      <th>4</th>\n",
       "      <td>0</td>\n",
       "      <td>0</td>\n",
       "      <td>40</td>\n",
       "      <td>20.0</td>\n",
       "      <td>0.0</td>\n",
       "      <td>0.0</td>\n",
       "      <td>1.0</td>\n",
       "      <td>NaN</td>\n",
       "      <td>38</td>\n",
       "      <td>0.0</td>\n",
       "      <td>0.0</td>\n",
       "      <td>0.0</td>\n",
       "      <td>0.0</td>\n",
       "      <td>1.0</td>\n",
       "      <td>1.0</td>\n",
       "      <td>0.0</td>\n",
       "      <td>0.0</td>\n",
       "      <td>0.0</td>\n",
       "      <td>0.0</td>\n",
       "    </tr>\n",
       "  </tbody>\n",
       "</table>\n",
       "</div>"
      ],
      "text/plain": [
       "   stationID  hour  minute   day  inNums  outNums  week lineID  stationID_new  \\\n",
       "0          0     0       0  20.0     0.0      1.0   1.0      B             38   \n",
       "1          0     0      10  20.0     0.0      2.0   1.0      B             38   \n",
       "2          0     0      20  20.0     0.0      0.0   1.0    NaN             38   \n",
       "3          0     0      30  20.0     0.0      0.0   1.0    NaN             38   \n",
       "4          0     0      40  20.0     0.0      0.0   1.0    NaN             38   \n",
       "\n",
       "   inNums_lagging1  outNums_lagging1  inNums_lagging2  outNums_lagging2  \\\n",
       "0              0.0               2.0              0.0               2.0   \n",
       "1              0.0               3.0              0.0               1.0   \n",
       "2              0.0               0.0              0.0               0.0   \n",
       "3              0.0               0.0              0.0               0.0   \n",
       "4              0.0               0.0              0.0               0.0   \n",
       "\n",
       "   inNums_lagging3  outNums_lagging3  inNums_lagging4  outNums_lagging4  \\\n",
       "0              0.0               2.0              0.0               3.0   \n",
       "1              0.0               0.0              0.0               0.0   \n",
       "2              0.0               0.0              0.0               0.0   \n",
       "3              0.0               0.0              0.0               0.0   \n",
       "4              1.0               1.0              0.0               0.0   \n",
       "\n",
       "   inNums_lagging5  outNums_lagging5  \n",
       "0              0.0               0.0  \n",
       "1              0.0               0.0  \n",
       "2              0.0               0.0  \n",
       "3              2.0               0.0  \n",
       "4              0.0               0.0  "
      ]
     },
     "execution_count": 560,
     "metadata": {},
     "output_type": "execute_result"
    }
   ],
   "source": [
    "data_lagging.head()"
   ]
  },
  {
   "cell_type": "code",
   "execution_count": 561,
   "metadata": {},
   "outputs": [
    {
     "data": {
      "text/plain": [
       "array([20.,  1.,  2.,  3.,  4.,  5.,  6.,  7.,  8.,  9., 10., 11., 12.,\n",
       "       13., 14., 15., 16., 17., 18., 19., 29.])"
      ]
     },
     "execution_count": 561,
     "metadata": {},
     "output_type": "execute_result"
    }
   ],
   "source": [
    "data_lagging.day.unique()"
   ]
  },
  {
   "cell_type": "code",
   "execution_count": 562,
   "metadata": {},
   "outputs": [
    {
     "data": {
      "text/plain": [
       "stationID               0\n",
       "hour                    0\n",
       "minute                  0\n",
       "day                     0\n",
       "inNums                  0\n",
       "outNums                 0\n",
       "week                    0\n",
       "lineID              52502\n",
       "stationID_new           0\n",
       "inNums_lagging1     11664\n",
       "outNums_lagging1    11664\n",
       "inNums_lagging2     23328\n",
       "outNums_lagging2    23328\n",
       "inNums_lagging3     34992\n",
       "outNums_lagging3    34992\n",
       "inNums_lagging4     46656\n",
       "outNums_lagging4    46656\n",
       "inNums_lagging5     58320\n",
       "outNums_lagging5    58320\n",
       "dtype: int64"
      ]
     },
     "execution_count": 562,
     "metadata": {},
     "output_type": "execute_result"
    }
   ],
   "source": [
    "data_lagging.isnull().sum()"
   ]
  },
  {
   "cell_type": "code",
   "execution_count": 563,
   "metadata": {},
   "outputs": [],
   "source": [
    "data=data_lagging"
   ]
  },
  {
   "cell_type": "code",
   "execution_count": 564,
   "metadata": {},
   "outputs": [],
   "source": [
    "# 剔除1天\n",
    "data=data[data.day>1]"
   ]
  },
  {
   "cell_type": "code",
   "execution_count": 565,
   "metadata": {},
   "outputs": [
    {
     "data": {
      "text/plain": [
       "stationID               0\n",
       "hour                    0\n",
       "minute                  0\n",
       "day                     0\n",
       "inNums                  0\n",
       "outNums                 0\n",
       "week                    0\n",
       "lineID              49779\n",
       "stationID_new           0\n",
       "inNums_lagging1         0\n",
       "outNums_lagging1        0\n",
       "inNums_lagging2     11664\n",
       "outNums_lagging2    11664\n",
       "inNums_lagging3     23328\n",
       "outNums_lagging3    23328\n",
       "inNums_lagging4     34992\n",
       "outNums_lagging4    34992\n",
       "inNums_lagging5     46656\n",
       "outNums_lagging5    46656\n",
       "dtype: int64"
      ]
     },
     "execution_count": 565,
     "metadata": {},
     "output_type": "execute_result"
    }
   ],
   "source": [
    "data.isnull().sum()"
   ]
  },
  {
   "cell_type": "code",
   "execution_count": 76,
   "metadata": {},
   "outputs": [],
   "source": [
    "# 数据集划分 前5天提特征 10-19 号当做"
   ]
  },
  {
   "cell_type": "code",
   "execution_count": 364,
   "metadata": {},
   "outputs": [],
   "source": [
    "# # 划分数据集\n",
    "# train_features_df=data[data.day.isin(range(5,15))]\n",
    "# train_df=data[data.day.isin(range(15,20))]\n",
    "\n",
    "# test_features_df=data[data.day.isin(range(10,20))]\n",
    "# valid_df=data[data.day==20]\n",
    "# test_df=data[data.day==29]"
   ]
  },
  {
   "cell_type": "code",
   "execution_count": 365,
   "metadata": {},
   "outputs": [],
   "source": [
    "# # 提取统计特征  长期统计特征\n",
    "# def get_statistics_features(features_df,data):\n",
    "#     tmp = features_df.groupby(['stationID', 'week', 'hour', 'minute'], as_index=False)['inNums'].agg({\n",
    "#         'inNums_whm_max': 'max',\n",
    "#         'inNums_whm_min': 'min',\n",
    "#         'inNums_whm_mean': 'mean',\n",
    "#         'inNums_whm_median':'median'\n",
    "#     })\n",
    "#     data = data.merge(tmp, on=['stationID', 'week', 'hour', 'minute'], how='left')\n",
    "\n",
    "#     tmp = features_df.groupby(['stationID', 'week', 'hour', 'minute'], as_index=False)['outNums'].agg({\n",
    "#         'outNums_whm_max': 'max',\n",
    "#         'outNums_whm_min': 'min',\n",
    "#         'outNums_whm_mean': 'mean',\n",
    "#         'outNums_whm_median':'median'\n",
    "#     })\n",
    "#     data = data.merge(tmp, on=['stationID', 'week', 'hour', 'minute'], how='left')\n",
    "\n",
    "#     tmp = features_df.groupby(['stationID', 'week', 'hour'], as_index=False)['inNums'].agg({\n",
    "#         'inNums_wh_max': 'max',\n",
    "#         'inNums_wh_min': 'min',\n",
    "#         'inNums_wh_mean': 'mean',\n",
    "#         'inNums_wh_median':'median'\n",
    "#     })\n",
    "#     data = data.merge(tmp, on=['stationID', 'week', 'hour'], how='left')\n",
    "\n",
    "#     tmp = features_df.groupby(['stationID', 'week', 'hour'], as_index=False)['outNums'].agg({\n",
    "#         'outNums_wh_max'    : 'max',\n",
    "#         'outNums_wh_min'    : 'min',\n",
    "#         'outNums_wh_mean': 'mean',\n",
    "#         'outNums_wh_median':'median'\n",
    "#     })\n",
    "#     data = data.merge(tmp, on=['stationID', 'week', 'hour'], how='left')\n",
    "#     return data\n"
   ]
  },
  {
   "cell_type": "code",
   "execution_count": 566,
   "metadata": {},
   "outputs": [
    {
     "data": {
      "text/plain": [
       "Index(['stationID', 'hour', 'minute', 'day', 'inNums', 'outNums', 'week',\n",
       "       'lineID', 'stationID_new', 'inNums_lagging1', 'outNums_lagging1',\n",
       "       'inNums_lagging2', 'outNums_lagging2', 'inNums_lagging3',\n",
       "       'outNums_lagging3', 'inNums_lagging4', 'outNums_lagging4',\n",
       "       'inNums_lagging5', 'outNums_lagging5'],\n",
       "      dtype='object')"
      ]
     },
     "execution_count": 566,
     "metadata": {},
     "output_type": "execute_result"
    }
   ],
   "source": [
    "data.columns"
   ]
  },
  {
   "cell_type": "code",
   "execution_count": 567,
   "metadata": {},
   "outputs": [
    {
     "data": {
      "text/plain": [
       "array([20.,  2.,  3.,  4.,  5.,  6.,  7.,  8.,  9., 10., 11., 12., 13.,\n",
       "       14., 15., 16., 17., 18., 19., 29.])"
      ]
     },
     "execution_count": 567,
     "metadata": {},
     "output_type": "execute_result"
    }
   ],
   "source": [
    "data.day.unique()"
   ]
  },
  {
   "cell_type": "code",
   "execution_count": 368,
   "metadata": {},
   "outputs": [],
   "source": [
    "# train_df=get_statistics_features(train_features_df,train_df)\n",
    "# valid_df=get_statistics_features(test_features_df,valid_df)\n",
    "# test_df=get_statistics_features(test_features_df,test_df)"
   ]
  },
  {
   "cell_type": "code",
   "execution_count": 568,
   "metadata": {},
   "outputs": [],
   "source": [
    "# 添加lagging的统计特征\n",
    "\n",
    "#5天内的统计值\n",
    "def get_new_features(data):\n",
    "    data['inNums_mean_3']=data[['inNums_lagging1','inNums_lagging2','inNums_lagging3']].mean(axis=1)\n",
    "    data['inNums_max_3']=data[['inNums_lagging1','inNums_lagging2','inNums_lagging3']].max(axis=1)\n",
    "    data['inNums_min_3']=data[['inNums_lagging1','inNums_lagging2','inNums_lagging3']].min(axis=1)\n",
    "    data['inNums_median_3']=data[['inNums_lagging1','inNums_lagging2','inNums_lagging3']].median(axis=1)\n",
    "    data['inNums_percenrt_1_3']=data['inNums_lagging1']/(data[['inNums_lagging1','inNums_lagging2','inNums_lagging3']].sum(axis=1)+1e-5)\n",
    "    data['inNums_percenrt_2_3']=data['inNums_lagging1']/(data[['inNums_lagging1','inNums_lagging2','inNums_lagging3']].sum(axis=1)+1e-5)\n",
    "    data['inNums_percenrt_3_3']=data['inNums_lagging1']/(data[['inNums_lagging1','inNums_lagging2','inNums_lagging3']].sum(axis=1)+1e-5)\n",
    "    \n",
    "    data['inNums_diff_1']=data['inNums_lagging1']-data['inNums_lagging2']\n",
    "    data['inNums_diff_2']=data['inNums_lagging2']-data['inNums_lagging3']\n",
    "    data['inNums_diff1_2']=data['inNums_diff_1']-data['inNums_diff_2']\n",
    "    data['inNums_divide_1']=data['inNums_lagging1']/(data['inNums_lagging2']+1e-5)\n",
    "    data['inNums_divide_2']=data['inNums_lagging2']/(data['inNums_lagging3']+1e-5)\n",
    "    \n",
    "    \n",
    "    data['outNums_mean_3']=data[['outNums_lagging1','outNums_lagging2','outNums_lagging3']].mean(axis=1)\n",
    "    data['outNums_max_3']=data[['outNums_lagging1','outNums_lagging2','outNums_lagging3']].max(axis=1)\n",
    "    data['outNums_min_3']=data[['outNums_lagging1','outNums_lagging2','outNums_lagging3']].min(axis=1)\n",
    "                                                   \n",
    "    data['outNums_diff_1']=data['outNums_lagging1']-data['outNums_lagging2']\n",
    "    data['outNums_diff_2']=data['outNums_lagging2']-data['outNums_lagging3']\n",
    "    data['outNums_diff1_2']=data['outNums_diff_1']-data['outNums_diff_2']\n",
    "    data['outNums_divide_1']=data['outNums_lagging1']/(data['outNums_lagging2']+1e-5)\n",
    "    data['outNums_divide_2']=data['outNums_lagging2']/(data['outNums_lagging3']+1e-5)\n",
    "    data['outNums_percenrt_1_3']=data['outNums_lagging1']/(data[['outNums_lagging1','outNums_lagging2','outNums_lagging3']].sum(axis=1)+1e-5)\n",
    "    data['outNums_percenrt_2_3']=data['outNums_lagging2']/(data[['outNums_lagging1','outNums_lagging2','outNums_lagging3']].sum(axis=1)+1e-5)\n",
    "    data['outNums_percenrt_3_3']=data['outNums_lagging3']/(data[['outNums_lagging1','outNums_lagging2','outNums_lagging3']].sum(axis=1)+1e-5)\n",
    "                                                   \n",
    "    return data\n"
   ]
  },
  {
   "cell_type": "code",
   "execution_count": 569,
   "metadata": {},
   "outputs": [],
   "source": [
    "# train_df=get_new_features(train_df)\n",
    "# valid_df=get_new_features(valid_df)\n",
    "# test_df=get_new_features(test_df)"
   ]
  },
  {
   "cell_type": "code",
   "execution_count": 570,
   "metadata": {},
   "outputs": [
    {
     "name": "stderr",
     "output_type": "stream",
     "text": [
      "E:\\Anaconda3\\lib\\site-packages\\ipykernel_launcher.py:5: SettingWithCopyWarning: \n",
      "A value is trying to be set on a copy of a slice from a DataFrame.\n",
      "Try using .loc[row_indexer,col_indexer] = value instead\n",
      "\n",
      "See the caveats in the documentation: http://pandas.pydata.org/pandas-docs/stable/indexing.html#indexing-view-versus-copy\n",
      "  \"\"\"\n",
      "E:\\Anaconda3\\lib\\site-packages\\ipykernel_launcher.py:6: SettingWithCopyWarning: \n",
      "A value is trying to be set on a copy of a slice from a DataFrame.\n",
      "Try using .loc[row_indexer,col_indexer] = value instead\n",
      "\n",
      "See the caveats in the documentation: http://pandas.pydata.org/pandas-docs/stable/indexing.html#indexing-view-versus-copy\n",
      "  \n",
      "E:\\Anaconda3\\lib\\site-packages\\ipykernel_launcher.py:7: SettingWithCopyWarning: \n",
      "A value is trying to be set on a copy of a slice from a DataFrame.\n",
      "Try using .loc[row_indexer,col_indexer] = value instead\n",
      "\n",
      "See the caveats in the documentation: http://pandas.pydata.org/pandas-docs/stable/indexing.html#indexing-view-versus-copy\n",
      "  import sys\n",
      "E:\\Anaconda3\\lib\\site-packages\\ipykernel_launcher.py:8: SettingWithCopyWarning: \n",
      "A value is trying to be set on a copy of a slice from a DataFrame.\n",
      "Try using .loc[row_indexer,col_indexer] = value instead\n",
      "\n",
      "See the caveats in the documentation: http://pandas.pydata.org/pandas-docs/stable/indexing.html#indexing-view-versus-copy\n",
      "  \n",
      "E:\\Anaconda3\\lib\\site-packages\\ipykernel_launcher.py:9: SettingWithCopyWarning: \n",
      "A value is trying to be set on a copy of a slice from a DataFrame.\n",
      "Try using .loc[row_indexer,col_indexer] = value instead\n",
      "\n",
      "See the caveats in the documentation: http://pandas.pydata.org/pandas-docs/stable/indexing.html#indexing-view-versus-copy\n",
      "  if __name__ == '__main__':\n",
      "E:\\Anaconda3\\lib\\site-packages\\ipykernel_launcher.py:10: SettingWithCopyWarning: \n",
      "A value is trying to be set on a copy of a slice from a DataFrame.\n",
      "Try using .loc[row_indexer,col_indexer] = value instead\n",
      "\n",
      "See the caveats in the documentation: http://pandas.pydata.org/pandas-docs/stable/indexing.html#indexing-view-versus-copy\n",
      "  # Remove the CWD from sys.path while we load stuff.\n",
      "E:\\Anaconda3\\lib\\site-packages\\ipykernel_launcher.py:11: SettingWithCopyWarning: \n",
      "A value is trying to be set on a copy of a slice from a DataFrame.\n",
      "Try using .loc[row_indexer,col_indexer] = value instead\n",
      "\n",
      "See the caveats in the documentation: http://pandas.pydata.org/pandas-docs/stable/indexing.html#indexing-view-versus-copy\n",
      "  # This is added back by InteractiveShellApp.init_path()\n",
      "E:\\Anaconda3\\lib\\site-packages\\ipykernel_launcher.py:13: SettingWithCopyWarning: \n",
      "A value is trying to be set on a copy of a slice from a DataFrame.\n",
      "Try using .loc[row_indexer,col_indexer] = value instead\n",
      "\n",
      "See the caveats in the documentation: http://pandas.pydata.org/pandas-docs/stable/indexing.html#indexing-view-versus-copy\n",
      "  del sys.path[0]\n",
      "E:\\Anaconda3\\lib\\site-packages\\ipykernel_launcher.py:14: SettingWithCopyWarning: \n",
      "A value is trying to be set on a copy of a slice from a DataFrame.\n",
      "Try using .loc[row_indexer,col_indexer] = value instead\n",
      "\n",
      "See the caveats in the documentation: http://pandas.pydata.org/pandas-docs/stable/indexing.html#indexing-view-versus-copy\n",
      "  \n",
      "E:\\Anaconda3\\lib\\site-packages\\ipykernel_launcher.py:15: SettingWithCopyWarning: \n",
      "A value is trying to be set on a copy of a slice from a DataFrame.\n",
      "Try using .loc[row_indexer,col_indexer] = value instead\n",
      "\n",
      "See the caveats in the documentation: http://pandas.pydata.org/pandas-docs/stable/indexing.html#indexing-view-versus-copy\n",
      "  from ipykernel import kernelapp as app\n",
      "E:\\Anaconda3\\lib\\site-packages\\ipykernel_launcher.py:16: SettingWithCopyWarning: \n",
      "A value is trying to be set on a copy of a slice from a DataFrame.\n",
      "Try using .loc[row_indexer,col_indexer] = value instead\n",
      "\n",
      "See the caveats in the documentation: http://pandas.pydata.org/pandas-docs/stable/indexing.html#indexing-view-versus-copy\n",
      "  app.launch_new_instance()\n",
      "E:\\Anaconda3\\lib\\site-packages\\ipykernel_launcher.py:17: SettingWithCopyWarning: \n",
      "A value is trying to be set on a copy of a slice from a DataFrame.\n",
      "Try using .loc[row_indexer,col_indexer] = value instead\n",
      "\n",
      "See the caveats in the documentation: http://pandas.pydata.org/pandas-docs/stable/indexing.html#indexing-view-versus-copy\n",
      "E:\\Anaconda3\\lib\\site-packages\\ipykernel_launcher.py:20: SettingWithCopyWarning: \n",
      "A value is trying to be set on a copy of a slice from a DataFrame.\n",
      "Try using .loc[row_indexer,col_indexer] = value instead\n",
      "\n",
      "See the caveats in the documentation: http://pandas.pydata.org/pandas-docs/stable/indexing.html#indexing-view-versus-copy\n",
      "E:\\Anaconda3\\lib\\site-packages\\ipykernel_launcher.py:21: SettingWithCopyWarning: \n",
      "A value is trying to be set on a copy of a slice from a DataFrame.\n",
      "Try using .loc[row_indexer,col_indexer] = value instead\n",
      "\n",
      "See the caveats in the documentation: http://pandas.pydata.org/pandas-docs/stable/indexing.html#indexing-view-versus-copy\n",
      "E:\\Anaconda3\\lib\\site-packages\\ipykernel_launcher.py:22: SettingWithCopyWarning: \n",
      "A value is trying to be set on a copy of a slice from a DataFrame.\n",
      "Try using .loc[row_indexer,col_indexer] = value instead\n",
      "\n",
      "See the caveats in the documentation: http://pandas.pydata.org/pandas-docs/stable/indexing.html#indexing-view-versus-copy\n",
      "E:\\Anaconda3\\lib\\site-packages\\ipykernel_launcher.py:24: SettingWithCopyWarning: \n",
      "A value is trying to be set on a copy of a slice from a DataFrame.\n",
      "Try using .loc[row_indexer,col_indexer] = value instead\n",
      "\n",
      "See the caveats in the documentation: http://pandas.pydata.org/pandas-docs/stable/indexing.html#indexing-view-versus-copy\n",
      "E:\\Anaconda3\\lib\\site-packages\\ipykernel_launcher.py:25: SettingWithCopyWarning: \n",
      "A value is trying to be set on a copy of a slice from a DataFrame.\n",
      "Try using .loc[row_indexer,col_indexer] = value instead\n",
      "\n",
      "See the caveats in the documentation: http://pandas.pydata.org/pandas-docs/stable/indexing.html#indexing-view-versus-copy\n",
      "E:\\Anaconda3\\lib\\site-packages\\ipykernel_launcher.py:26: SettingWithCopyWarning: \n",
      "A value is trying to be set on a copy of a slice from a DataFrame.\n",
      "Try using .loc[row_indexer,col_indexer] = value instead\n",
      "\n",
      "See the caveats in the documentation: http://pandas.pydata.org/pandas-docs/stable/indexing.html#indexing-view-versus-copy\n",
      "E:\\Anaconda3\\lib\\site-packages\\ipykernel_launcher.py:27: SettingWithCopyWarning: \n",
      "A value is trying to be set on a copy of a slice from a DataFrame.\n",
      "Try using .loc[row_indexer,col_indexer] = value instead\n",
      "\n",
      "See the caveats in the documentation: http://pandas.pydata.org/pandas-docs/stable/indexing.html#indexing-view-versus-copy\n",
      "E:\\Anaconda3\\lib\\site-packages\\ipykernel_launcher.py:28: SettingWithCopyWarning: \n",
      "A value is trying to be set on a copy of a slice from a DataFrame.\n",
      "Try using .loc[row_indexer,col_indexer] = value instead\n",
      "\n",
      "See the caveats in the documentation: http://pandas.pydata.org/pandas-docs/stable/indexing.html#indexing-view-versus-copy\n",
      "E:\\Anaconda3\\lib\\site-packages\\ipykernel_launcher.py:29: SettingWithCopyWarning: \n",
      "A value is trying to be set on a copy of a slice from a DataFrame.\n",
      "Try using .loc[row_indexer,col_indexer] = value instead\n",
      "\n",
      "See the caveats in the documentation: http://pandas.pydata.org/pandas-docs/stable/indexing.html#indexing-view-versus-copy\n",
      "E:\\Anaconda3\\lib\\site-packages\\ipykernel_launcher.py:30: SettingWithCopyWarning: \n",
      "A value is trying to be set on a copy of a slice from a DataFrame.\n",
      "Try using .loc[row_indexer,col_indexer] = value instead\n",
      "\n",
      "See the caveats in the documentation: http://pandas.pydata.org/pandas-docs/stable/indexing.html#indexing-view-versus-copy\n",
      "E:\\Anaconda3\\lib\\site-packages\\ipykernel_launcher.py:31: SettingWithCopyWarning: \n",
      "A value is trying to be set on a copy of a slice from a DataFrame.\n",
      "Try using .loc[row_indexer,col_indexer] = value instead\n",
      "\n",
      "See the caveats in the documentation: http://pandas.pydata.org/pandas-docs/stable/indexing.html#indexing-view-versus-copy\n"
     ]
    }
   ],
   "source": [
    "data=get_new_features(data)"
   ]
  },
  {
   "cell_type": "code",
   "execution_count": 571,
   "metadata": {},
   "outputs": [
    {
     "data": {
      "text/plain": [
       "stationID                   0\n",
       "hour                        0\n",
       "minute                      0\n",
       "day                         0\n",
       "inNums                      0\n",
       "outNums                     0\n",
       "week                        0\n",
       "lineID                  49779\n",
       "stationID_new               0\n",
       "inNums_lagging1             0\n",
       "outNums_lagging1            0\n",
       "inNums_lagging2         11664\n",
       "outNums_lagging2        11664\n",
       "inNums_lagging3         23328\n",
       "outNums_lagging3        23328\n",
       "inNums_lagging4         34992\n",
       "outNums_lagging4        34992\n",
       "inNums_lagging5         46656\n",
       "outNums_lagging5        46656\n",
       "inNums_mean_3               0\n",
       "inNums_max_3                0\n",
       "inNums_min_3                0\n",
       "inNums_median_3             0\n",
       "inNums_percenrt_1_3         0\n",
       "inNums_percenrt_2_3         0\n",
       "inNums_percenrt_3_3         0\n",
       "inNums_diff_1           11664\n",
       "inNums_diff_2           23328\n",
       "inNums_diff1_2          23328\n",
       "inNums_divide_1         11664\n",
       "inNums_divide_2         23328\n",
       "outNums_mean_3              0\n",
       "outNums_max_3               0\n",
       "outNums_min_3               0\n",
       "outNums_diff_1          11664\n",
       "outNums_diff_2          23328\n",
       "outNums_diff1_2         23328\n",
       "outNums_divide_1        11664\n",
       "outNums_divide_2        23328\n",
       "outNums_percenrt_1_3        0\n",
       "outNums_percenrt_2_3    11664\n",
       "outNums_percenrt_3_3    23328\n",
       "dtype: int64"
      ]
     },
     "execution_count": 571,
     "metadata": {},
     "output_type": "execute_result"
    }
   ],
   "source": [
    "data.isnull().sum()"
   ]
  },
  {
   "cell_type": "code",
   "execution_count": 572,
   "metadata": {},
   "outputs": [],
   "source": [
    "# 新特征  周1-4  为1类    周5为1类   hour:   0-4为一段  5为一段 6为一段   7为一段 8为一段  9为一段  10-15 为一段   16为一段 17为一段   18为一段  19-21为一段 22为一段  23为一段\n",
    "def get_week_hour_new(data):\n",
    "    data.loc[data['week'].isin([1, 2, 3,4]), 'day_of_week_en'] = 1\n",
    "    data.loc[data['week'].isin([5]), 'day_of_week_en'] = 2\n",
    "\n",
    "    data.loc[data['hour'].isin([0,1,2,3,4,5,6]), 'hour_en'] = 1\n",
    "    data.loc[data['hour'].isin([7,8]), 'hour_en'] = 5\n",
    "    data.loc[data['hour'].isin([9,10,11,12,13,14,15,16]), 'hour_en'] = 3\n",
    "    data.loc[data['hour'].isin([17,18]), 'hour_en'] = 4\n",
    "    data.loc[data['hour'].isin([19,20,21,22,23]), 'hour_en'] = 2\n",
    "    categorical_columns=['day_of_week_en','hour_en']\n",
    "    data= pd.get_dummies(data, columns=categorical_columns)\n",
    "    return data"
   ]
  },
  {
   "cell_type": "code",
   "execution_count": 574,
   "metadata": {},
   "outputs": [
    {
     "name": "stderr",
     "output_type": "stream",
     "text": [
      "E:\\Anaconda3\\lib\\site-packages\\pandas\\core\\indexing.py:357: SettingWithCopyWarning: \n",
      "A value is trying to be set on a copy of a slice from a DataFrame.\n",
      "Try using .loc[row_indexer,col_indexer] = value instead\n",
      "\n",
      "See the caveats in the documentation: http://pandas.pydata.org/pandas-docs/stable/indexing.html#indexing-view-versus-copy\n",
      "  self.obj[key] = _infer_fill_value(value)\n",
      "E:\\Anaconda3\\lib\\site-packages\\pandas\\core\\indexing.py:537: SettingWithCopyWarning: \n",
      "A value is trying to be set on a copy of a slice from a DataFrame.\n",
      "Try using .loc[row_indexer,col_indexer] = value instead\n",
      "\n",
      "See the caveats in the documentation: http://pandas.pydata.org/pandas-docs/stable/indexing.html#indexing-view-versus-copy\n",
      "  self.obj[item] = s\n"
     ]
    }
   ],
   "source": [
    "data=get_week_hour_new(data)"
   ]
  },
  {
   "cell_type": "code",
   "execution_count": 132,
   "metadata": {},
   "outputs": [],
   "source": [
    "# #   短期特征 构建lagging特征  取前1,2,3,天（时序数据）\n",
    "\n",
    "# # 提取前i天的记录作为特征\n",
    "# def get_lagging_day(d,i):\n",
    "#     if d+i== 21:\n",
    "#         # 20在修改前对应28号数据\n",
    "#         return 29\n",
    "#     else:\n",
    "#         return d + i\n",
    "\n",
    "# def create_lagging(df,df_original,day):\n",
    "    \n",
    "\n",
    "#     stat_columns = ['inNums', 'outNums']\n",
    "#     # tmp用来构建时序特征\n",
    "#     tmp = df_original.copy()\n",
    "#     tmp['day'] = tmp['day'].apply(get_lagging_day,args = (day,))\n",
    "#     for i in range(len(stat_columns)):\n",
    "#         tmp.rename(columns={stat_columns[i]: stat_columns[i] + '_lagging'+str(day)}, inplace=True)\n",
    "#         stat_columns[i]+='_lagging'+str(day)\n",
    "        \n",
    "#     stat_columns.extend(['stationID', 'day', 'hour', 'minute'])\n",
    "#     tmp = tmp[stat_columns]\n",
    "#     df = df.merge(tmp, on=['stationID', 'day', 'hour', 'minute'], how='left')\n",
    "#     return df\n",
    "# data_lagging = create_lagging(train_df,train_features_df, 1)\n",
    "# for i in range(2,6):\n",
    "#     data_lagging = create_lagging(data_lagging, data, i)"
   ]
  },
  {
   "cell_type": "code",
   "execution_count": 575,
   "metadata": {},
   "outputs": [],
   "source": [
    "# 恢复初始时间\n",
    "def recover_day(d):\n",
    "    if d in [1, 2, 3, 4]:\n",
    "        return d\n",
    "    elif d in [5, 6, 7, 8, 9]:\n",
    "        return d + 2\n",
    "    elif d in [10, 11, 12, 13, 14]:\n",
    "        return d + 4\n",
    "    elif d in [15, 16, 17, 18, 19]:\n",
    "        return d + 6\n",
    "    elif d == 20:\n",
    "        return d + 8\n",
    "    else:\n",
    "        return d"
   ]
  },
  {
   "cell_type": "code",
   "execution_count": 603,
   "metadata": {},
   "outputs": [],
   "source": [
    "# lineID编码\n",
    "lineID_new=data.groupby(['lineID']).inNums.mean().sort_values().index\n",
    "data['lineID_new']=data['lineID'].map(dict(zip(lineID_new,range(3))))"
   ]
  },
  {
   "cell_type": "code",
   "execution_count": 647,
   "metadata": {},
   "outputs": [
    {
     "data": {
      "text/plain": [
       "['stationID',\n",
       " 'hour',\n",
       " 'minute',\n",
       " 'day',\n",
       " 'week',\n",
       " 'lineID',\n",
       " 'stationID_new',\n",
       " 'inNums_lagging1',\n",
       " 'outNums_lagging1',\n",
       " 'inNums_lagging2',\n",
       " 'outNums_lagging2',\n",
       " 'inNums_lagging3',\n",
       " 'outNums_lagging3',\n",
       " 'inNums_lagging4',\n",
       " 'outNums_lagging4',\n",
       " 'inNums_lagging5',\n",
       " 'outNums_lagging5',\n",
       " 'inNums_mean_3',\n",
       " 'inNums_max_3',\n",
       " 'inNums_min_3',\n",
       " 'inNums_median_3',\n",
       " 'inNums_percenrt_1_3',\n",
       " 'inNums_percenrt_2_3',\n",
       " 'inNums_percenrt_3_3',\n",
       " 'inNums_diff_1',\n",
       " 'inNums_diff_2',\n",
       " 'inNums_diff1_2',\n",
       " 'inNums_divide_1',\n",
       " 'inNums_divide_2',\n",
       " 'outNums_mean_3',\n",
       " 'outNums_max_3',\n",
       " 'outNums_min_3',\n",
       " 'outNums_diff_1',\n",
       " 'outNums_diff_2',\n",
       " 'outNums_diff1_2',\n",
       " 'outNums_divide_1',\n",
       " 'outNums_divide_2',\n",
       " 'outNums_percenrt_1_3',\n",
       " 'outNums_percenrt_2_3',\n",
       " 'outNums_percenrt_3_3',\n",
       " 'day_of_week_en_1.0',\n",
       " 'day_of_week_en_2.0',\n",
       " 'hour_en_1.0',\n",
       " 'hour_en_2.0',\n",
       " 'hour_en_3.0',\n",
       " 'hour_en_4.0',\n",
       " 'hour_en_5.0',\n",
       " 'lineID_new']"
      ]
     },
     "execution_count": 647,
     "metadata": {},
     "output_type": "execute_result"
    }
   ],
   "source": [
    "# all_columns = [f for f in data.columns if f not in ['weekend', 'inNums', 'outNums']]\n",
    "all_columns=[f for f in data.columns if f not in ['inNums', 'outNums']]\n",
    "all_columns"
   ]
  },
  {
   "cell_type": "code",
   "execution_count": 788,
   "metadata": {},
   "outputs": [],
   "source": [
    "all_columns=[\n",
    "# 'stationID',\n",
    " 'hour',\n",
    " 'minute',\n",
    " 'day',\n",
    " 'week',\n",
    "#  'lineID',\n",
    " 'stationID_new',\n",
    "    \n",
    " 'inNums_lagging1',\n",
    "\n",
    " 'inNums_lagging2',\n",
    " \n",
    " 'inNums_lagging3',\n",
    " \n",
    " 'inNums_lagging4',\n",
    "\n",
    " 'inNums_lagging5',\n",
    "\n",
    " 'inNums_mean_3',\n",
    " 'inNums_max_3',\n",
    " 'inNums_min_3',\n",
    " 'inNums_median_3',\n",
    " 'inNums_percenrt_1_3',\n",
    " 'inNums_percenrt_2_3',\n",
    " 'inNums_percenrt_3_3',\n",
    " 'inNums_diff_1',\n",
    " 'inNums_diff_2',\n",
    " 'inNums_diff1_2',\n",
    " 'inNums_divide_1',\n",
    " 'inNums_divide_2',\n",
    "    \n",
    "#      'outNums_lagging1',\n",
    "#     'outNums_lagging2',\n",
    "#     'outNums_lagging3',\n",
    "#      'outNums_lagging4',\n",
    "#      'outNums_lagging5',\n",
    "#  'outNums_mean_3',\n",
    "#  'outNums_max_3',\n",
    "#  'outNums_min_3',\n",
    "#  'outNums_diff_1',\n",
    "#  'outNums_diff_2',\n",
    "#  'outNums_diff1_2',\n",
    "#  'outNums_divide_1',\n",
    "#  'outNums_divide_2',\n",
    "#  'outNums_percenrt_1_3',\n",
    "#  'outNums_percenrt_2_3',\n",
    "#  'outNums_percenrt_3_3',\n",
    "    \n",
    " 'day_of_week_en_1.0',\n",
    " 'day_of_week_en_2.0',\n",
    " 'hour_en_1.0',\n",
    " 'hour_en_2.0',\n",
    " 'hour_en_3.0',\n",
    " 'hour_en_4.0',\n",
    " 'hour_en_5.0',\n",
    " 'lineID_new'\n",
    "]"
   ]
  },
  {
   "cell_type": "code",
   "execution_count": 789,
   "metadata": {},
   "outputs": [
    {
     "data": {
      "text/plain": [
       "array([20.,  2.,  3.,  4.,  5.,  6.,  7.,  8.,  9., 10., 11., 12., 13.,\n",
       "       14., 15., 16., 17., 18., 19., 29.])"
      ]
     },
     "execution_count": 789,
     "metadata": {},
     "output_type": "execute_result"
    }
   ],
   "source": [
    "data.day.unique()"
   ]
  },
  {
   "cell_type": "code",
   "execution_count": 790,
   "metadata": {},
   "outputs": [
    {
     "name": "stderr",
     "output_type": "stream",
     "text": [
      "E:\\Anaconda3\\lib\\site-packages\\ipykernel_launcher.py:2: SettingWithCopyWarning: \n",
      "A value is trying to be set on a copy of a slice from a DataFrame.\n",
      "Try using .loc[row_indexer,col_indexer] = value instead\n",
      "\n",
      "See the caveats in the documentation: http://pandas.pydata.org/pandas-docs/stable/indexing.html#indexing-view-versus-copy\n",
      "  \n",
      "E:\\Anaconda3\\lib\\site-packages\\ipykernel_launcher.py:6: SettingWithCopyWarning: \n",
      "A value is trying to be set on a copy of a slice from a DataFrame.\n",
      "Try using .loc[row_indexer,col_indexer] = value instead\n",
      "\n",
      "See the caveats in the documentation: http://pandas.pydata.org/pandas-docs/stable/indexing.html#indexing-view-versus-copy\n",
      "  \n",
      "E:\\Anaconda3\\lib\\site-packages\\ipykernel_launcher.py:11: SettingWithCopyWarning: \n",
      "A value is trying to be set on a copy of a slice from a DataFrame.\n",
      "Try using .loc[row_indexer,col_indexer] = value instead\n",
      "\n",
      "See the caveats in the documentation: http://pandas.pydata.org/pandas-docs/stable/indexing.html#indexing-view-versus-copy\n",
      "  # This is added back by InteractiveShellApp.init_path()\n"
     ]
    }
   ],
   "source": [
    "all_data = data[(data.day>6) & (data.day<=20)]\n",
    "all_data['day'] = all_data['day'].apply(recover_day)\n",
    "X_data = all_data[all_columns]\n",
    "# 训练集\n",
    "train = data[(data.day>6) & (data.day<20)]\n",
    "train['day'] = train['day'].apply(recover_day)\n",
    "X_train =train[all_columns]\n",
    "\n",
    "# 28验证集\n",
    "valid = data[data.day==20]\n",
    "valid['day'] = valid['day'].apply(recover_day)\n",
    "X_valid = valid[all_columns]\n",
    "\n",
    "# 29测试集\n",
    "test=data[data.day==29]\n",
    "X_test = test[all_columns]"
   ]
  },
  {
   "cell_type": "code",
   "execution_count": 791,
   "metadata": {},
   "outputs": [
    {
     "data": {
      "text/plain": [
       "(151632, 23)"
      ]
     },
     "execution_count": 791,
     "metadata": {},
     "output_type": "execute_result"
    }
   ],
   "source": [
    "X_train.shape"
   ]
  },
  {
   "cell_type": "code",
   "execution_count": 792,
   "metadata": {
    "scrolled": true
   },
   "outputs": [
    {
     "data": {
      "text/plain": [
       "hour                       0\n",
       "minute                     0\n",
       "day                        0\n",
       "week                       0\n",
       "stationID_new              0\n",
       "inNums_lagging1            0\n",
       "inNums_lagging2            0\n",
       "inNums_lagging3            0\n",
       "inNums_lagging4            0\n",
       "inNums_lagging5            0\n",
       "inNums_mean_3              0\n",
       "inNums_max_3               0\n",
       "inNums_min_3               0\n",
       "inNums_median_3            0\n",
       "inNums_percenrt_1_3        0\n",
       "inNums_percenrt_2_3        0\n",
       "inNums_percenrt_3_3        0\n",
       "inNums_diff_1              0\n",
       "inNums_diff_2              0\n",
       "inNums_diff1_2             0\n",
       "inNums_divide_1            0\n",
       "inNums_divide_2            0\n",
       "lineID_new             33765\n",
       "dtype: int64"
      ]
     },
     "execution_count": 792,
     "metadata": {},
     "output_type": "execute_result"
    }
   ],
   "source": [
    "X_train.isnull().sum()"
   ]
  },
  {
   "cell_type": "code",
   "execution_count": 757,
   "metadata": {},
   "outputs": [],
   "source": [
    "# del X_train['inNums']\n",
    "# del X_valid['inNums']\n",
    "# del X_data['inNums']\n",
    "# del X_test['inNums']"
   ]
  },
  {
   "cell_type": "code",
   "execution_count": 793,
   "metadata": {
    "scrolled": true
   },
   "outputs": [
    {
     "name": "stdout",
     "output_type": "stream",
     "text": [
      "Training until validation scores don't improve for 200 rounds.\n",
      "[1000]\ttrain's l1: 0.124161\tvalid's l1: 0.15103\n",
      "[2000]\ttrain's l1: 0.119622\tvalid's l1: 0.150103\n",
      "[3000]\ttrain's l1: 0.11602\tvalid's l1: 0.149863\n",
      "Early stopping, best iteration is:\n",
      "[2839]\ttrain's l1: 0.116567\tvalid's l1: 0.149818\n",
      "                 column  importance\n",
      "4         stationID_new       20934\n",
      "9       inNums_lagging5       14268\n",
      "8       inNums_lagging4       12748\n",
      "2                   day       12703\n",
      "0                  hour       12491\n",
      "14  inNums_percenrt_1_3        9642\n",
      "21      inNums_divide_2        8767\n",
      "10        inNums_mean_3        7757\n",
      "20      inNums_divide_1        7554\n",
      "19       inNums_diff1_2        6843\n",
      "3                  week        6715\n",
      "5       inNums_lagging1        6332\n",
      "22           lineID_new        6083\n",
      "1                minute        5978\n",
      "18        inNums_diff_2        5757\n",
      "7       inNums_lagging3        5687\n",
      "13      inNums_median_3        5357\n",
      "11         inNums_max_3        4950\n",
      "6       inNums_lagging2        4628\n",
      "17        inNums_diff_1        4507\n",
      "12         inNums_min_3        3985\n",
      "15  inNums_percenrt_2_3        2007\n",
      "16  inNums_percenrt_3_3         325\n"
     ]
    }
   ],
   "source": [
    "# 构建模型并训练\n",
    "params = {\n",
    "\n",
    "    \n",
    "    'boosting_type': 'gbdt',\n",
    "    'objective': 'regression',\n",
    "    'metric': 'mae',\n",
    "    'num_leaves': 63,\n",
    "    'learning_rate': 0.01,\n",
    "    'feature_fraction': 0.8,\n",
    "    'bagging_fraction': 0.9,\n",
    "    'bagging_seed':0,\n",
    "    'bagging_freq': 1,\n",
    "    'verbose': 1,\n",
    "    'reg_alpha':1,\n",
    "    'reg_lambda':2,\n",
    "    'min_child_weight':6\n",
    "}\n",
    "\n",
    "######################################################inNums\n",
    "y_train = np.log1p(train['inNums'])\n",
    "y_valid = np.log1p(valid['inNums'])\n",
    "y_data  =  np.log1p(all_data['inNums'])\n",
    "# categorical_feature= cate_cols指定类别特征\n",
    "lgb_train = lgb.Dataset(X_train, y_train)\n",
    "lgb_evals = lgb.Dataset(X_valid, y_valid , reference=lgb_train)\n",
    "\n",
    "# 通过验证集调参（超参数），进行模型选择\n",
    "gbm = lgb.train(params,\n",
    "                lgb_train,\n",
    "                num_boost_round=10000,\n",
    "                valid_sets=[lgb_train,lgb_evals],\n",
    "                valid_names=['train','valid'],\n",
    "                early_stopping_rounds=200,\n",
    "                verbose_eval=1000,\n",
    "                )\n",
    "valid_res_inNums=np.expm1(gbm.predict(X_valid))\n",
    "# 在训练集+验证集上进行训练最终模型\n",
    "lgb_train = lgb.Dataset(X_data, y_data)\n",
    "gbm = lgb.train(params,\n",
    "                lgb_train,\n",
    "                num_boost_round=gbm.best_iteration,\n",
    "                valid_sets=[lgb_train],\n",
    "                valid_names=['train'],\n",
    "                verbose_eval=1000,\n",
    "                )\n",
    "test['inNums'] = np.expm1(gbm.predict(X_test))\n",
    "\n",
    "#     特征重要性\n",
    "features=X_train.columns\n",
    "feature_rank=gbm.feature_importance()\n",
    "features_df=pd.DataFrame({ 'column':features,'importance': feature_rank}).sort_values(by='importance', ascending=False)\n",
    "print(features_df)"
   ]
  },
  {
   "cell_type": "code",
   "execution_count": 794,
   "metadata": {},
   "outputs": [
    {
     "data": {
      "text/plain": [
       "13.12028787530405"
      ]
     },
     "execution_count": 794,
     "metadata": {},
     "output_type": "execute_result"
    }
   ],
   "source": [
    "abs(valid['inNums'].values-valid_res_inNums).sum()/len(valid)"
   ]
  },
  {
   "cell_type": "code",
   "execution_count": 773,
   "metadata": {
    "scrolled": true
   },
   "outputs": [
    {
     "name": "stdout",
     "output_type": "stream",
     "text": [
      "Training until validation scores don't improve for 200 rounds.\n",
      "[1000]\ttrain's l1: 0.125034\tvalid's l1: 0.150594\n",
      "Early stopping, best iteration is:\n",
      "[1696]\ttrain's l1: 0.122001\tvalid's l1: 0.150031\n",
      "[1000]\ttrain's l1: 0.126027\n",
      "                  column  importance\n",
      "4          stationID_new       10970\n",
      "2                    day        8911\n",
      "0                   hour        8665\n",
      "9       outNums_lagging5        7896\n",
      "8       outNums_lagging4        6886\n",
      "10        outNums_mean_3        5346\n",
      "3                   week        4953\n",
      "20  outNums_percenrt_3_3        4712\n",
      "18  outNums_percenrt_1_3        4636\n",
      "5       outNums_lagging1        4119\n",
      "28            lineID_new        3980\n",
      "16      outNums_divide_1        3764\n",
      "17      outNums_divide_2        3633\n",
      "19  outNums_percenrt_2_3        3503\n",
      "1                 minute        3146\n",
      "12         outNums_min_3        2952\n",
      "6       outNums_lagging2        2858\n",
      "7       outNums_lagging3        2856\n",
      "15       outNums_diff1_2        2700\n",
      "11         outNums_max_3        2454\n",
      "13        outNums_diff_1        2304\n",
      "14        outNums_diff_2        2236\n",
      "25           hour_en_3.0         417\n",
      "21    day_of_week_en_1.0         400\n",
      "23           hour_en_1.0         326\n",
      "24           hour_en_2.0         221\n",
      "27           hour_en_5.0         157\n",
      "26           hour_en_4.0         100\n",
      "22    day_of_week_en_2.0          51\n"
     ]
    },
    {
     "name": "stderr",
     "output_type": "stream",
     "text": [
      "E:\\Anaconda3\\lib\\site-packages\\ipykernel_launcher.py:35: SettingWithCopyWarning: \n",
      "A value is trying to be set on a copy of a slice from a DataFrame.\n",
      "Try using .loc[row_indexer,col_indexer] = value instead\n",
      "\n",
      "See the caveats in the documentation: http://pandas.pydata.org/pandas-docs/stable/indexing.html#indexing-view-versus-copy\n"
     ]
    }
   ],
   "source": [
    "######################################################outNums\n",
    "# 把innums添加为特征预测outNums\n",
    "# X_train['inNums']=np.log1p(train['inNums'].values)\n",
    "# X_valid['inNums']=np.log1p(valid['inNums'].values)\n",
    "# X_data['inNums']=np.log1p(X_data_innums)\n",
    "# X_test['inNums']=np.log1p(test['inNums'].values)\n",
    "\n",
    "y_train = np.log1p(train['outNums'])\n",
    "y_valid =  np.log1p(valid['outNums'])\n",
    "y_data  =  np.log1p(all_data['outNums'])\n",
    "\n",
    "lgb_train = lgb.Dataset(X_train, y_train)\n",
    "lgb_evals = lgb.Dataset(X_valid, y_valid , reference=lgb_train)\n",
    "gbm = lgb.train(params,\n",
    "                lgb_train,\n",
    "                num_boost_round=10000,\n",
    "                valid_sets=[lgb_train,lgb_evals],\n",
    "                valid_names=['train','valid'],\n",
    "                early_stopping_rounds=200,\n",
    "                verbose_eval=1000,\n",
    "                )\n",
    "\n",
    "valid_res_outNums=np.expm1(gbm.predict(X_valid))\n",
    "\n",
    "### all_data\n",
    "lgb_train = lgb.Dataset(X_data, y_data)\n",
    "gbm = lgb.train(params,\n",
    "                lgb_train,\n",
    "                num_boost_round=gbm.best_iteration,\n",
    "                valid_sets=[lgb_train],\n",
    "                valid_names=['train'],\n",
    "                verbose_eval=1000,\n",
    "                )\n",
    "\n",
    "test['outNums'] = np.expm1(gbm.predict(X_test))\n",
    "#     特征重要性\n",
    "features=X_train.columns\n",
    "feature_rank=gbm.feature_importance()\n",
    "features_df=pd.DataFrame({ 'column':features,'importance': feature_rank}).sort_values(by='importance', ascending=False)\n",
    "print(features_df)"
   ]
  },
  {
   "cell_type": "code",
   "execution_count": 774,
   "metadata": {},
   "outputs": [
    {
     "data": {
      "text/plain": [
       "13.54563094095366"
      ]
     },
     "execution_count": 774,
     "metadata": {},
     "output_type": "execute_result"
    }
   ],
   "source": [
    "abs(valid['outNums']-valid_res_outNums).sum()/11664"
   ]
  },
  {
   "cell_type": "code",
   "execution_count": 780,
   "metadata": {},
   "outputs": [],
   "source": [
    "sub = pd.read_csv(path + '/Metro_testA/testA_submit_2019-01-29.csv')\n",
    "# 4h前为0\n",
    "# test.loc[test.hour<4 , 'inNums']  = 0\n",
    "# test.loc[test.hour<4, 'outNums'] = 0\n",
    "sub['inNums']   = test['inNums'].values\n",
    "sub['outNums']  = test['outNums'].values\n",
    "# 结果修正\n",
    "sub.loc[sub.inNums<1 , 'inNums']  = 0\n",
    "sub.loc[sub.outNums<1, 'outNums'] = 0\n",
    "\n"
   ]
  },
  {
   "cell_type": "code",
   "execution_count": 781,
   "metadata": {},
   "outputs": [],
   "source": [
    "sub[['stationID', 'startTime', 'endTime', 'inNums', 'outNums']].to_csv('data/submit_baseline_final03.csv',index=False)"
   ]
  },
  {
   "cell_type": "code",
   "execution_count": 784,
   "metadata": {},
   "outputs": [
    {
     "data": {
      "image/png": "[encoded data removed]",
      "text/plain": [
       "<matplotlib.figure.Figure at 0x1ccbaf85630>"
      ]
     },
     "metadata": {
      "needs_background": "light"
     },
     "output_type": "display_data"
    }
   ],
   "source": [
    "plt.rcParams['figure.figsize'] = (20.0, 8.0)\n",
    "(test.groupby(['hour','day']).outNums.mean()).unstack().plot()\n",
    "plt.show()"
   ]
  },
  {
   "cell_type": "code",
   "execution_count": 279,
   "metadata": {},
   "outputs": [
    {
     "data": {
      "image/png": "[encoded data removed]",
      "text/plain": [
       "<matplotlib.figure.Figure at 0x1ccb4172c50>"
      ]
     },
     "metadata": {
      "needs_background": "light"
     },
     "output_type": "display_data"
    }
   ],
   "source": [
    "# 数据分析EDA\n",
    "#stack简单说就是把columns转成index，unstack就是反过来\n",
    "plt.rcParams['figure.figsize'] = (20.0, 8.0)\n",
    "data[(data.day.isin([18,19]))].groupby(['hour', 'day']).outNums.sum().unstack().plot()\n",
    "plt.show()"
   ]
  },
  {
   "cell_type": "code",
   "execution_count": 798,
   "metadata": {
    "scrolled": true
   },
   "outputs": [
    {
     "data": {
      "text/plain": [
       "0.0"
      ]
     },
     "execution_count": 798,
     "metadata": {},
     "output_type": "execute_result"
    }
   ],
   "source": [
    "test['inNums'].sum()"
   ]
  },
  {
   "cell_type": "code",
   "execution_count": 778,
   "metadata": {},
   "outputs": [
    {
     "name": "stderr",
     "output_type": "stream",
     "text": [
      "E:\\Anaconda3\\lib\\site-packages\\ipykernel_launcher.py:1: SettingWithCopyWarning: \n",
      "A value is trying to be set on a copy of a slice from a DataFrame.\n",
      "Try using .loc[row_indexer,col_indexer] = value instead\n",
      "\n",
      "See the caveats in the documentation: http://pandas.pydata.org/pandas-docs/stable/indexing.html#indexing-view-versus-copy\n",
      "  \"\"\"Entry point for launching an IPython kernel.\n"
     ]
    }
   ],
   "source": [
    "test['inNums']=output1"
   ]
  },
  {
   "cell_type": "code",
   "execution_count": 795,
   "metadata": {},
   "outputs": [
    {
     "data": {
      "text/plain": [
       "1202647.0"
      ]
     },
     "execution_count": 795,
     "metadata": {},
     "output_type": "execute_result"
    }
   ],
   "source": [
    "valid['outNums'].sum()"
   ]
  },
  {
   "cell_type": "code",
   "execution_count": 796,
   "metadata": {},
   "outputs": [
    {
     "data": {
      "text/plain": [
       "1229143.2734572021"
      ]
     },
     "execution_count": 796,
     "metadata": {},
     "output_type": "execute_result"
    }
   ],
   "source": [
    "valid_res_outNums.sum()"
   ]
  },
  {
   "cell_type": "code",
   "execution_count": 668,
   "metadata": {},
   "outputs": [
    {
     "data": {
      "text/plain": [
       "<matplotlib.axes._subplots.AxesSubplot at 0x1cc907e2b70>"
      ]
     },
     "execution_count": 668,
     "metadata": {},
     "output_type": "execute_result"
    },
    {
     "data": {
      "image/png": "[encoded data removed]",
      "text/plain": [
       "<matplotlib.figure.Figure at 0x1cc9a28b390>"
      ]
     },
     "metadata": {
      "needs_background": "light"
     },
     "output_type": "display_data"
    }
   ],
   "source": [
    "np.log1p(data['inNums']).hist(bins=100)"
   ]
  },
  {
   "cell_type": "code",
   "execution_count": 412,
   "metadata": {},
   "outputs": [
    {
     "data": {
      "text/plain": [
       "array([20,  5,  6,  7,  8,  9, 10, 11, 12, 13, 14, 15, 16, 17, 18, 19, 29],\n",
       "      dtype=int64)"
      ]
     },
     "execution_count": 412,
     "metadata": {},
     "output_type": "execute_result"
    }
   ],
   "source": [
    "data.day.unique()"
   ]
  },
  {
   "cell_type": "code",
   "execution_count": 231,
   "metadata": {},
   "outputs": [
    {
     "data": {
      "text/html": [
       "<div>\n",
       "<style scoped>\n",
       "    .dataframe tbody tr th:only-of-type {\n",
       "        vertical-align: middle;\n",
       "    }\n",
       "\n",
       "    .dataframe tbody tr th {\n",
       "        vertical-align: top;\n",
       "    }\n",
       "\n",
       "    .dataframe thead th {\n",
       "        text-align: right;\n",
       "    }\n",
       "</style>\n",
       "<table border=\"1\" class=\"dataframe\">\n",
       "  <thead>\n",
       "    <tr style=\"text-align: right;\">\n",
       "      <th></th>\n",
       "      <th>stationID</th>\n",
       "      <th>hour</th>\n",
       "      <th>minute</th>\n",
       "      <th>day</th>\n",
       "      <th>week</th>\n",
       "      <th>inNums_whm_max</th>\n",
       "      <th>inNums_whm_min</th>\n",
       "      <th>inNums_whm_mean</th>\n",
       "      <th>inNums_whm_median</th>\n",
       "      <th>outNums_whm_max</th>\n",
       "      <th>...</th>\n",
       "      <th>outNums_whm_median</th>\n",
       "      <th>inNums_wh_max</th>\n",
       "      <th>inNums_wh_min</th>\n",
       "      <th>inNums_wh_mean</th>\n",
       "      <th>inNums_wh_median</th>\n",
       "      <th>outNums_wh_max</th>\n",
       "      <th>outNums_wh_min</th>\n",
       "      <th>outNums_wh_mean</th>\n",
       "      <th>outNums_wh_median</th>\n",
       "      <th>inNums</th>\n",
       "    </tr>\n",
       "  </thead>\n",
       "  <tbody>\n",
       "    <tr>\n",
       "      <th>0</th>\n",
       "      <td>0</td>\n",
       "      <td>0</td>\n",
       "      <td>0</td>\n",
       "      <td>29.0</td>\n",
       "      <td>2.0</td>\n",
       "      <td>0.0</td>\n",
       "      <td>0.0</td>\n",
       "      <td>0.0</td>\n",
       "      <td>0.0</td>\n",
       "      <td>3.0</td>\n",
       "      <td>...</td>\n",
       "      <td>1.5</td>\n",
       "      <td>0.0</td>\n",
       "      <td>0.0</td>\n",
       "      <td>0.0</td>\n",
       "      <td>0.0</td>\n",
       "      <td>3.0</td>\n",
       "      <td>0.0</td>\n",
       "      <td>0.25</td>\n",
       "      <td>0.0</td>\n",
       "      <td>0.227262</td>\n",
       "    </tr>\n",
       "    <tr>\n",
       "      <th>1</th>\n",
       "      <td>0</td>\n",
       "      <td>0</td>\n",
       "      <td>10</td>\n",
       "      <td>29.0</td>\n",
       "      <td>2.0</td>\n",
       "      <td>0.0</td>\n",
       "      <td>0.0</td>\n",
       "      <td>0.0</td>\n",
       "      <td>0.0</td>\n",
       "      <td>0.0</td>\n",
       "      <td>...</td>\n",
       "      <td>0.0</td>\n",
       "      <td>0.0</td>\n",
       "      <td>0.0</td>\n",
       "      <td>0.0</td>\n",
       "      <td>0.0</td>\n",
       "      <td>3.0</td>\n",
       "      <td>0.0</td>\n",
       "      <td>0.25</td>\n",
       "      <td>0.0</td>\n",
       "      <td>0.105688</td>\n",
       "    </tr>\n",
       "    <tr>\n",
       "      <th>2</th>\n",
       "      <td>0</td>\n",
       "      <td>0</td>\n",
       "      <td>20</td>\n",
       "      <td>29.0</td>\n",
       "      <td>2.0</td>\n",
       "      <td>0.0</td>\n",
       "      <td>0.0</td>\n",
       "      <td>0.0</td>\n",
       "      <td>0.0</td>\n",
       "      <td>0.0</td>\n",
       "      <td>...</td>\n",
       "      <td>0.0</td>\n",
       "      <td>0.0</td>\n",
       "      <td>0.0</td>\n",
       "      <td>0.0</td>\n",
       "      <td>0.0</td>\n",
       "      <td>3.0</td>\n",
       "      <td>0.0</td>\n",
       "      <td>0.25</td>\n",
       "      <td>0.0</td>\n",
       "      <td>0.101258</td>\n",
       "    </tr>\n",
       "    <tr>\n",
       "      <th>3</th>\n",
       "      <td>0</td>\n",
       "      <td>0</td>\n",
       "      <td>30</td>\n",
       "      <td>29.0</td>\n",
       "      <td>2.0</td>\n",
       "      <td>0.0</td>\n",
       "      <td>0.0</td>\n",
       "      <td>0.0</td>\n",
       "      <td>0.0</td>\n",
       "      <td>0.0</td>\n",
       "      <td>...</td>\n",
       "      <td>0.0</td>\n",
       "      <td>0.0</td>\n",
       "      <td>0.0</td>\n",
       "      <td>0.0</td>\n",
       "      <td>0.0</td>\n",
       "      <td>3.0</td>\n",
       "      <td>0.0</td>\n",
       "      <td>0.25</td>\n",
       "      <td>0.0</td>\n",
       "      <td>0.101184</td>\n",
       "    </tr>\n",
       "    <tr>\n",
       "      <th>4</th>\n",
       "      <td>0</td>\n",
       "      <td>0</td>\n",
       "      <td>40</td>\n",
       "      <td>29.0</td>\n",
       "      <td>2.0</td>\n",
       "      <td>0.0</td>\n",
       "      <td>0.0</td>\n",
       "      <td>0.0</td>\n",
       "      <td>0.0</td>\n",
       "      <td>0.0</td>\n",
       "      <td>...</td>\n",
       "      <td>0.0</td>\n",
       "      <td>0.0</td>\n",
       "      <td>0.0</td>\n",
       "      <td>0.0</td>\n",
       "      <td>0.0</td>\n",
       "      <td>3.0</td>\n",
       "      <td>0.0</td>\n",
       "      <td>0.25</td>\n",
       "      <td>0.0</td>\n",
       "      <td>0.088921</td>\n",
       "    </tr>\n",
       "  </tbody>\n",
       "</table>\n",
       "<p>5 rows × 22 columns</p>\n",
       "</div>"
      ],
      "text/plain": [
       "   stationID  hour  minute   day  week  inNums_whm_max  inNums_whm_min  \\\n",
       "0          0     0       0  29.0   2.0             0.0             0.0   \n",
       "1          0     0      10  29.0   2.0             0.0             0.0   \n",
       "2          0     0      20  29.0   2.0             0.0             0.0   \n",
       "3          0     0      30  29.0   2.0             0.0             0.0   \n",
       "4          0     0      40  29.0   2.0             0.0             0.0   \n",
       "\n",
       "   inNums_whm_mean  inNums_whm_median  outNums_whm_max    ...     \\\n",
       "0              0.0                0.0              3.0    ...      \n",
       "1              0.0                0.0              0.0    ...      \n",
       "2              0.0                0.0              0.0    ...      \n",
       "3              0.0                0.0              0.0    ...      \n",
       "4              0.0                0.0              0.0    ...      \n",
       "\n",
       "   outNums_whm_median  inNums_wh_max  inNums_wh_min  inNums_wh_mean  \\\n",
       "0                 1.5            0.0            0.0             0.0   \n",
       "1                 0.0            0.0            0.0             0.0   \n",
       "2                 0.0            0.0            0.0             0.0   \n",
       "3                 0.0            0.0            0.0             0.0   \n",
       "4                 0.0            0.0            0.0             0.0   \n",
       "\n",
       "   inNums_wh_median  outNums_wh_max  outNums_wh_min  outNums_wh_mean  \\\n",
       "0               0.0             3.0             0.0             0.25   \n",
       "1               0.0             3.0             0.0             0.25   \n",
       "2               0.0             3.0             0.0             0.25   \n",
       "3               0.0             3.0             0.0             0.25   \n",
       "4               0.0             3.0             0.0             0.25   \n",
       "\n",
       "   outNums_wh_median    inNums  \n",
       "0                0.0  0.227262  \n",
       "1                0.0  0.105688  \n",
       "2                0.0  0.101258  \n",
       "3                0.0  0.101184  \n",
       "4                0.0  0.088921  \n",
       "\n",
       "[5 rows x 22 columns]"
      ]
     },
     "execution_count": 231,
     "metadata": {},
     "output_type": "execute_result"
    }
   ],
   "source": [
    "X_test.head()"
   ]
  },
  {
   "cell_type": "code",
   "execution_count": 418,
   "metadata": {},
   "outputs": [],
   "source": [
    "data_eda=data[data.day==20]"
   ]
  },
  {
   "cell_type": "code",
   "execution_count": null,
   "metadata": {},
   "outputs": [],
   "source": [
    "def quantile_clip(group):\n",
    "    group.plot()\n",
    "    group[group < group.quantile(.05)] = group.quantile(.05)\n",
    "    group[group > group.quantile(.95)] = group.quantile(.95)\n",
    "    group.plot()\n",
    "    plt.show()\n",
    "    return group\n",
    "\n",
    "data_eda.groupby(['stationID', 'day','hour','minute'])['inNums'].transform(quantile_clip)"
   ]
  },
  {
   "cell_type": "code",
   "execution_count": null,
   "metadata": {},
   "outputs": [],
   "source": []
  }
 ],
 "metadata": {
  "kernelspec": {
   "display_name": "Python 3",
   "language": "python",
   "name": "python3"
  },
  "language_info": {
   "codemirror_mode": {
    "name": "ipython",
    "version": 3
   },
   "file_extension": ".py",
   "mimetype": "text/x-python",
   "name": "python",
   "nbconvert_exporter": "python",
   "pygments_lexer": "ipython3",
   "version": "3.6.4"
  }
 },
 "nbformat": 4,
 "nbformat_minor": 2
}
